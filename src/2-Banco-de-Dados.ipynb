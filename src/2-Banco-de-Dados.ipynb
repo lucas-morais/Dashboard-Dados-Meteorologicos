{
 "cells": [
  {
   "cell_type": "markdown",
   "metadata": {},
   "source": [
    "## 2. Banco de Dados"
   ]
  },
  {
   "cell_type": "markdown",
   "metadata": {},
   "source": [
    "### Descrição\n",
    "\n",
    "- Criação de um banco de dados contendo as informações dos arquivos csv\n",
    "- O banco de dados será criado com a engine SQLite  "
   ]
  },
  {
   "cell_type": "markdown",
   "metadata": {},
   "source": [
    "### __João Pessoa__"
   ]
  },
  {
   "cell_type": "code",
   "execution_count": 1,
   "metadata": {},
   "outputs": [],
   "source": [
    "#Carregando bibliotecas\n",
    "\n",
    "import pandas as pd\n",
    "import sqlite3\n",
    "from bdconfig import carrega_csv, cria_bd, cria_conexao"
   ]
  },
  {
   "cell_type": "code",
   "execution_count": 2,
   "metadata": {},
   "outputs": [
    {
     "output_type": "execute_result",
     "data": {
      "text/plain": "                     TempBulboSeco  TempBulboUmido  UmidadeRelativa  \\\nHorario                                                               \n2008-01-01 00:00:00           26.8            22.6             68.0   \n2008-01-01 12:00:00           29.4            23.3             58.0   \n2008-01-01 18:00:00           29.6            23.5             59.0   \n2008-01-02 00:00:00           26.6            22.2             69.0   \n2008-01-02 12:00:00           29.8            23.9             61.0   \n\n                     PressaoAtmEstacao DirecaoVento  VelocidadeVento  \\\nHorario                                                                \n2008-01-01 00:00:00             1012.1           14              3.3   \n2008-01-01 12:00:00             1012.7           14              3.5   \n2008-01-01 18:00:00             1011.2           14              3.3   \n2008-01-02 00:00:00             1012.8           14              2.6   \n2008-01-02 12:00:00             1013.3           14              3.3   \n\n                     Nebulosidade  \nHorario                            \n2008-01-01 00:00:00           3.0  \n2008-01-01 12:00:00           4.0  \n2008-01-01 18:00:00           3.0  \n2008-01-02 00:00:00           4.0  \n2008-01-02 12:00:00           3.0  ",
      "text/html": "<div>\n<style scoped>\n    .dataframe tbody tr th:only-of-type {\n        vertical-align: middle;\n    }\n\n    .dataframe tbody tr th {\n        vertical-align: top;\n    }\n\n    .dataframe thead th {\n        text-align: right;\n    }\n</style>\n<table border=\"1\" class=\"dataframe\">\n  <thead>\n    <tr style=\"text-align: right;\">\n      <th></th>\n      <th>TempBulboSeco</th>\n      <th>TempBulboUmido</th>\n      <th>UmidadeRelativa</th>\n      <th>PressaoAtmEstacao</th>\n      <th>DirecaoVento</th>\n      <th>VelocidadeVento</th>\n      <th>Nebulosidade</th>\n    </tr>\n    <tr>\n      <th>Horario</th>\n      <th></th>\n      <th></th>\n      <th></th>\n      <th></th>\n      <th></th>\n      <th></th>\n      <th></th>\n    </tr>\n  </thead>\n  <tbody>\n    <tr>\n      <th>2008-01-01 00:00:00</th>\n      <td>26.8</td>\n      <td>22.6</td>\n      <td>68.0</td>\n      <td>1012.1</td>\n      <td>14</td>\n      <td>3.3</td>\n      <td>3.0</td>\n    </tr>\n    <tr>\n      <th>2008-01-01 12:00:00</th>\n      <td>29.4</td>\n      <td>23.3</td>\n      <td>58.0</td>\n      <td>1012.7</td>\n      <td>14</td>\n      <td>3.5</td>\n      <td>4.0</td>\n    </tr>\n    <tr>\n      <th>2008-01-01 18:00:00</th>\n      <td>29.6</td>\n      <td>23.5</td>\n      <td>59.0</td>\n      <td>1011.2</td>\n      <td>14</td>\n      <td>3.3</td>\n      <td>3.0</td>\n    </tr>\n    <tr>\n      <th>2008-01-02 00:00:00</th>\n      <td>26.6</td>\n      <td>22.2</td>\n      <td>69.0</td>\n      <td>1012.8</td>\n      <td>14</td>\n      <td>2.6</td>\n      <td>4.0</td>\n    </tr>\n    <tr>\n      <th>2008-01-02 12:00:00</th>\n      <td>29.8</td>\n      <td>23.9</td>\n      <td>61.0</td>\n      <td>1013.3</td>\n      <td>14</td>\n      <td>3.3</td>\n      <td>3.0</td>\n    </tr>\n  </tbody>\n</table>\n</div>"
     },
     "metadata": {},
     "execution_count": 2
    }
   ],
   "source": [
    "arquivo = '../dados/JoaoPessoa_clima.csv'\n",
    "\n",
    "df = carrega_csv(arquivo)\n",
    "df.head()"
   ]
  },
  {
   "cell_type": "code",
   "execution_count": 3,
   "metadata": {},
   "outputs": [
    {
     "output_type": "stream",
     "name": "stdout",
     "text": "2.6.0\n"
    }
   ],
   "source": [
    "bd_teste='../dados/teste.db'\n",
    "cria_bd(bd_teste)"
   ]
  },
  {
   "cell_type": "code",
   "execution_count": 4,
   "metadata": {},
   "outputs": [],
   "source": [
    "con = cria_conexao(bd_teste)\n",
    "df.to_sql(name=\"JoaoPessoa\", con=con)"
   ]
  },
  {
   "cell_type": "code",
   "execution_count": 5,
   "metadata": {},
   "outputs": [],
   "source": [
    "query = \"SELECT * from JoaoPessoa\""
   ]
  },
  {
   "cell_type": "code",
   "execution_count": 6,
   "metadata": {},
   "outputs": [
    {
     "output_type": "execute_result",
     "data": {
      "text/plain": "                     TempBulboSeco  TempBulboUmido  UmidadeRelativa  \\\nHorario                                                               \n2008-01-01 00:00:00           26.8            22.6             68.0   \n2008-01-01 12:00:00           29.4            23.3             58.0   \n2008-01-01 18:00:00           29.6            23.5             59.0   \n2008-01-02 00:00:00           26.6            22.2             69.0   \n2008-01-02 12:00:00           29.8            23.9             61.0   \n\n                     PressaoAtmEstacao DirecaoVento  VelocidadeVento  \\\nHorario                                                                \n2008-01-01 00:00:00             1012.1           14              3.3   \n2008-01-01 12:00:00             1012.7           14              3.5   \n2008-01-01 18:00:00             1011.2           14              3.3   \n2008-01-02 00:00:00             1012.8           14              2.6   \n2008-01-02 12:00:00             1013.3           14              3.3   \n\n                     Nebulosidade  \nHorario                            \n2008-01-01 00:00:00           3.0  \n2008-01-01 12:00:00           4.0  \n2008-01-01 18:00:00           3.0  \n2008-01-02 00:00:00           4.0  \n2008-01-02 12:00:00           3.0  ",
      "text/html": "<div>\n<style scoped>\n    .dataframe tbody tr th:only-of-type {\n        vertical-align: middle;\n    }\n\n    .dataframe tbody tr th {\n        vertical-align: top;\n    }\n\n    .dataframe thead th {\n        text-align: right;\n    }\n</style>\n<table border=\"1\" class=\"dataframe\">\n  <thead>\n    <tr style=\"text-align: right;\">\n      <th></th>\n      <th>TempBulboSeco</th>\n      <th>TempBulboUmido</th>\n      <th>UmidadeRelativa</th>\n      <th>PressaoAtmEstacao</th>\n      <th>DirecaoVento</th>\n      <th>VelocidadeVento</th>\n      <th>Nebulosidade</th>\n    </tr>\n    <tr>\n      <th>Horario</th>\n      <th></th>\n      <th></th>\n      <th></th>\n      <th></th>\n      <th></th>\n      <th></th>\n      <th></th>\n    </tr>\n  </thead>\n  <tbody>\n    <tr>\n      <th>2008-01-01 00:00:00</th>\n      <td>26.8</td>\n      <td>22.6</td>\n      <td>68.0</td>\n      <td>1012.1</td>\n      <td>14</td>\n      <td>3.3</td>\n      <td>3.0</td>\n    </tr>\n    <tr>\n      <th>2008-01-01 12:00:00</th>\n      <td>29.4</td>\n      <td>23.3</td>\n      <td>58.0</td>\n      <td>1012.7</td>\n      <td>14</td>\n      <td>3.5</td>\n      <td>4.0</td>\n    </tr>\n    <tr>\n      <th>2008-01-01 18:00:00</th>\n      <td>29.6</td>\n      <td>23.5</td>\n      <td>59.0</td>\n      <td>1011.2</td>\n      <td>14</td>\n      <td>3.3</td>\n      <td>3.0</td>\n    </tr>\n    <tr>\n      <th>2008-01-02 00:00:00</th>\n      <td>26.6</td>\n      <td>22.2</td>\n      <td>69.0</td>\n      <td>1012.8</td>\n      <td>14</td>\n      <td>2.6</td>\n      <td>4.0</td>\n    </tr>\n    <tr>\n      <th>2008-01-02 12:00:00</th>\n      <td>29.8</td>\n      <td>23.9</td>\n      <td>61.0</td>\n      <td>1013.3</td>\n      <td>14</td>\n      <td>3.3</td>\n      <td>3.0</td>\n    </tr>\n  </tbody>\n</table>\n</div>"
     },
     "metadata": {},
     "execution_count": 6
    }
   ],
   "source": [
    "df_jp = pd.read_sql_query(query, con=con, parse_dates='Horario', index_col='Horario')\n",
    "df_jp.head()"
   ]
  },
  {
   "cell_type": "code",
   "execution_count": 7,
   "metadata": {},
   "outputs": [
    {
     "output_type": "execute_result",
     "data": {
      "text/plain": "TempBulboSeco        float64\nTempBulboUmido       float64\nUmidadeRelativa      float64\nPressaoAtmEstacao    float64\nDirecaoVento          object\nVelocidadeVento      float64\nNebulosidade         float64\ndtype: object"
     },
     "metadata": {},
     "execution_count": 7
    }
   ],
   "source": [
    "df_jp.dtypes"
   ]
  },
  {
   "cell_type": "code",
   "execution_count": 8,
   "metadata": {},
   "outputs": [
    {
     "output_type": "execute_result",
     "data": {
      "text/plain": "DatetimeIndex(['2008-01-01 00:00:00', '2008-01-01 12:00:00',\n               '2008-01-01 18:00:00', '2008-01-02 00:00:00',\n               '2008-01-02 12:00:00', '2008-01-02 18:00:00',\n               '2008-01-03 00:00:00', '2008-01-03 12:00:00',\n               '2008-01-03 18:00:00', '2008-01-04 00:00:00',\n               ...\n               '2018-12-28 18:00:00', '2018-12-29 00:00:00',\n               '2018-12-29 12:00:00', '2018-12-29 18:00:00',\n               '2018-12-30 00:00:00', '2018-12-30 12:00:00',\n               '2018-12-30 18:00:00', '2018-12-31 00:00:00',\n               '2018-12-31 12:00:00', '2018-12-31 18:00:00'],\n              dtype='datetime64[ns]', name='Horario', length=11938, freq=None)"
     },
     "metadata": {},
     "execution_count": 8
    }
   ],
   "source": [
    "df_jp.index"
   ]
  },
  {
   "cell_type": "code",
   "execution_count": 9,
   "metadata": {},
   "outputs": [],
   "source": [
    "con.close()"
   ]
  },
  {
   "cell_type": "code",
   "execution_count": 10,
   "metadata": {},
   "outputs": [],
   "source": [
    "from os import remove\n",
    "remove(bd_teste)"
   ]
  },
  {
   "cell_type": "markdown",
   "metadata": {},
   "source": [
    "### __Criando Banco de da Dados__"
   ]
  },
  {
   "cell_type": "code",
   "execution_count": 11,
   "metadata": {},
   "outputs": [],
   "source": [
    "import os\n",
    "\n",
    "\n",
    "def bd_clima():\n",
    "    path = \"../dados/\"\n",
    "\n",
    "    if \"clima.db\" in os.listdir(path):\n",
    "        print(\"Banco de dados já criado\")\n",
    "    else:\n",
    "        \n",
    "        cria_bd(path+\"clima.db\")\n",
    "        con = cria_conexao(path+\"clima.db\")\n",
    "\n",
    "        arquivos = [arq for arq in os.listdir(path) if '.csv' in arq]\n",
    "\n",
    "        for tabela in arquivos:\n",
    "\n",
    "            if '_clima.csv' in tabela:\n",
    "                nome= tabela.rsplit(\"_clima.csv\")\n",
    "                df = carrega_csv(path+tabela)\n",
    "                df.to_sql(nome[0], con)\n",
    "            else:\n",
    "                nome = tabela.rsplit(\".csv\")\n",
    "                df = carrega_csv(path+tabela)\n",
    "                df.to_sql(nome[0], con)\n"
   ]
  },
  {
   "cell_type": "code",
   "execution_count": 12,
   "metadata": {},
   "outputs": [
    {
     "output_type": "stream",
     "name": "stdout",
     "text": "2.6.0\n"
    }
   ],
   "source": [
    "bd_clima()"
   ]
  },
  {
   "cell_type": "markdown",
   "metadata": {},
   "source": [
    "### __Carregar Tabela__"
   ]
  },
  {
   "cell_type": "code",
   "execution_count": 14,
   "metadata": {},
   "outputs": [
    {
     "output_type": "execute_result",
     "data": {
      "text/plain": "               Horario  TempBulboSeco  TempBulboUmido  UmidadeRelativa  \\\n0  2008-01-01 00:00:00           26.8            22.6             68.0   \n1  2008-01-01 12:00:00           29.4            23.3             58.0   \n2  2008-01-01 18:00:00           29.6            23.5             59.0   \n3  2008-01-02 00:00:00           26.6            22.2             69.0   \n4  2008-01-02 12:00:00           29.8            23.9             61.0   \n5  2008-01-02 18:00:00           29.6            24.1             63.0   \n6  2008-01-03 00:00:00           27.0            23.9             77.0   \n7  2008-01-03 12:00:00           29.8            24.3             64.0   \n8  2008-01-03 18:00:00           29.8            24.7             66.0   \n9  2008-01-04 00:00:00           27.6            24.5             77.0   \n\n   PressaoAtmEstacao DirecaoVento  VelocidadeVento  Nebulosidade  \n0             1012.1           14              3.3           3.0  \n1             1012.7           14              3.5           4.0  \n2             1011.2           14              3.3           3.0  \n3             1012.8           14              2.6           4.0  \n4             1013.3           14              3.3           3.0  \n5             1010.8           14              4.6           3.0  \n6             1013.8           14              3.3           5.0  \n7             1014.5           14              6.0           4.0  \n8             1012.4           18              5.6           4.0  \n9             1014.8           14              4.0           6.0  ",
      "text/html": "<div>\n<style scoped>\n    .dataframe tbody tr th:only-of-type {\n        vertical-align: middle;\n    }\n\n    .dataframe tbody tr th {\n        vertical-align: top;\n    }\n\n    .dataframe thead th {\n        text-align: right;\n    }\n</style>\n<table border=\"1\" class=\"dataframe\">\n  <thead>\n    <tr style=\"text-align: right;\">\n      <th></th>\n      <th>Horario</th>\n      <th>TempBulboSeco</th>\n      <th>TempBulboUmido</th>\n      <th>UmidadeRelativa</th>\n      <th>PressaoAtmEstacao</th>\n      <th>DirecaoVento</th>\n      <th>VelocidadeVento</th>\n      <th>Nebulosidade</th>\n    </tr>\n  </thead>\n  <tbody>\n    <tr>\n      <th>0</th>\n      <td>2008-01-01 00:00:00</td>\n      <td>26.8</td>\n      <td>22.6</td>\n      <td>68.0</td>\n      <td>1012.1</td>\n      <td>14</td>\n      <td>3.3</td>\n      <td>3.0</td>\n    </tr>\n    <tr>\n      <th>1</th>\n      <td>2008-01-01 12:00:00</td>\n      <td>29.4</td>\n      <td>23.3</td>\n      <td>58.0</td>\n      <td>1012.7</td>\n      <td>14</td>\n      <td>3.5</td>\n      <td>4.0</td>\n    </tr>\n    <tr>\n      <th>2</th>\n      <td>2008-01-01 18:00:00</td>\n      <td>29.6</td>\n      <td>23.5</td>\n      <td>59.0</td>\n      <td>1011.2</td>\n      <td>14</td>\n      <td>3.3</td>\n      <td>3.0</td>\n    </tr>\n    <tr>\n      <th>3</th>\n      <td>2008-01-02 00:00:00</td>\n      <td>26.6</td>\n      <td>22.2</td>\n      <td>69.0</td>\n      <td>1012.8</td>\n      <td>14</td>\n      <td>2.6</td>\n      <td>4.0</td>\n    </tr>\n    <tr>\n      <th>4</th>\n      <td>2008-01-02 12:00:00</td>\n      <td>29.8</td>\n      <td>23.9</td>\n      <td>61.0</td>\n      <td>1013.3</td>\n      <td>14</td>\n      <td>3.3</td>\n      <td>3.0</td>\n    </tr>\n    <tr>\n      <th>5</th>\n      <td>2008-01-02 18:00:00</td>\n      <td>29.6</td>\n      <td>24.1</td>\n      <td>63.0</td>\n      <td>1010.8</td>\n      <td>14</td>\n      <td>4.6</td>\n      <td>3.0</td>\n    </tr>\n    <tr>\n      <th>6</th>\n      <td>2008-01-03 00:00:00</td>\n      <td>27.0</td>\n      <td>23.9</td>\n      <td>77.0</td>\n      <td>1013.8</td>\n      <td>14</td>\n      <td>3.3</td>\n      <td>5.0</td>\n    </tr>\n    <tr>\n      <th>7</th>\n      <td>2008-01-03 12:00:00</td>\n      <td>29.8</td>\n      <td>24.3</td>\n      <td>64.0</td>\n      <td>1014.5</td>\n      <td>14</td>\n      <td>6.0</td>\n      <td>4.0</td>\n    </tr>\n    <tr>\n      <th>8</th>\n      <td>2008-01-03 18:00:00</td>\n      <td>29.8</td>\n      <td>24.7</td>\n      <td>66.0</td>\n      <td>1012.4</td>\n      <td>18</td>\n      <td>5.6</td>\n      <td>4.0</td>\n    </tr>\n    <tr>\n      <th>9</th>\n      <td>2008-01-04 00:00:00</td>\n      <td>27.6</td>\n      <td>24.5</td>\n      <td>77.0</td>\n      <td>1014.8</td>\n      <td>14</td>\n      <td>4.0</td>\n      <td>6.0</td>\n    </tr>\n  </tbody>\n</table>\n</div>"
     },
     "metadata": {},
     "execution_count": 14
    }
   ],
   "source": [
    "bd = \"../dados/clima.db\"\n",
    "con = cria_conexao(bd)\n",
    "\n",
    "query = \"SELECT * FROM JoaoPessoa\"\n",
    "\n",
    "df = pd.read_sql_query(sql = query, con = con)\n",
    "df.head(10)\n",
    "\n",
    "con.close()"
   ]
  },
  {
   "cell_type": "code",
   "execution_count": 15,
   "metadata": {},
   "outputs": [
    {
     "output_type": "execute_result",
     "data": {
      "text/plain": "Horario               object\nTempBulboSeco        float64\nTempBulboUmido       float64\nUmidadeRelativa      float64\nPressaoAtmEstacao    float64\nDirecaoVento          object\nVelocidadeVento      float64\nNebulosidade         float64\ndtype: object"
     },
     "metadata": {},
     "execution_count": 15
    }
   ],
   "source": [
    "df.dtypes"
   ]
  },
  {
   "cell_type": "code",
   "execution_count": 17,
   "metadata": {},
   "outputs": [
    {
     "output_type": "execute_result",
     "data": {
      "text/plain": "                     TempBulboSeco  TempBulboUmido  UmidadeRelativa  \\\nHorario                                                               \n2008-01-01 00:00:00           26.8            22.6             68.0   \n2008-01-01 12:00:00           29.4            23.3             58.0   \n2008-01-01 18:00:00           29.6            23.5             59.0   \n2008-01-02 00:00:00           26.6            22.2             69.0   \n2008-01-02 12:00:00           29.8            23.9             61.0   \n2008-01-02 18:00:00           29.6            24.1             63.0   \n2008-01-03 00:00:00           27.0            23.9             77.0   \n2008-01-03 12:00:00           29.8            24.3             64.0   \n2008-01-03 18:00:00           29.8            24.7             66.0   \n2008-01-04 00:00:00           27.6            24.5             77.0   \n\n                     PressaoAtmEstacao DirecaoVento  VelocidadeVento  \\\nHorario                                                                \n2008-01-01 00:00:00             1012.1           14              3.3   \n2008-01-01 12:00:00             1012.7           14              3.5   \n2008-01-01 18:00:00             1011.2           14              3.3   \n2008-01-02 00:00:00             1012.8           14              2.6   \n2008-01-02 12:00:00             1013.3           14              3.3   \n2008-01-02 18:00:00             1010.8           14              4.6   \n2008-01-03 00:00:00             1013.8           14              3.3   \n2008-01-03 12:00:00             1014.5           14              6.0   \n2008-01-03 18:00:00             1012.4           18              5.6   \n2008-01-04 00:00:00             1014.8           14              4.0   \n\n                     Nebulosidade  \nHorario                            \n2008-01-01 00:00:00           3.0  \n2008-01-01 12:00:00           4.0  \n2008-01-01 18:00:00           3.0  \n2008-01-02 00:00:00           4.0  \n2008-01-02 12:00:00           3.0  \n2008-01-02 18:00:00           3.0  \n2008-01-03 00:00:00           5.0  \n2008-01-03 12:00:00           4.0  \n2008-01-03 18:00:00           4.0  \n2008-01-04 00:00:00           6.0  ",
      "text/html": "<div>\n<style scoped>\n    .dataframe tbody tr th:only-of-type {\n        vertical-align: middle;\n    }\n\n    .dataframe tbody tr th {\n        vertical-align: top;\n    }\n\n    .dataframe thead th {\n        text-align: right;\n    }\n</style>\n<table border=\"1\" class=\"dataframe\">\n  <thead>\n    <tr style=\"text-align: right;\">\n      <th></th>\n      <th>TempBulboSeco</th>\n      <th>TempBulboUmido</th>\n      <th>UmidadeRelativa</th>\n      <th>PressaoAtmEstacao</th>\n      <th>DirecaoVento</th>\n      <th>VelocidadeVento</th>\n      <th>Nebulosidade</th>\n    </tr>\n    <tr>\n      <th>Horario</th>\n      <th></th>\n      <th></th>\n      <th></th>\n      <th></th>\n      <th></th>\n      <th></th>\n      <th></th>\n    </tr>\n  </thead>\n  <tbody>\n    <tr>\n      <th>2008-01-01 00:00:00</th>\n      <td>26.8</td>\n      <td>22.6</td>\n      <td>68.0</td>\n      <td>1012.1</td>\n      <td>14</td>\n      <td>3.3</td>\n      <td>3.0</td>\n    </tr>\n    <tr>\n      <th>2008-01-01 12:00:00</th>\n      <td>29.4</td>\n      <td>23.3</td>\n      <td>58.0</td>\n      <td>1012.7</td>\n      <td>14</td>\n      <td>3.5</td>\n      <td>4.0</td>\n    </tr>\n    <tr>\n      <th>2008-01-01 18:00:00</th>\n      <td>29.6</td>\n      <td>23.5</td>\n      <td>59.0</td>\n      <td>1011.2</td>\n      <td>14</td>\n      <td>3.3</td>\n      <td>3.0</td>\n    </tr>\n    <tr>\n      <th>2008-01-02 00:00:00</th>\n      <td>26.6</td>\n      <td>22.2</td>\n      <td>69.0</td>\n      <td>1012.8</td>\n      <td>14</td>\n      <td>2.6</td>\n      <td>4.0</td>\n    </tr>\n    <tr>\n      <th>2008-01-02 12:00:00</th>\n      <td>29.8</td>\n      <td>23.9</td>\n      <td>61.0</td>\n      <td>1013.3</td>\n      <td>14</td>\n      <td>3.3</td>\n      <td>3.0</td>\n    </tr>\n    <tr>\n      <th>2008-01-02 18:00:00</th>\n      <td>29.6</td>\n      <td>24.1</td>\n      <td>63.0</td>\n      <td>1010.8</td>\n      <td>14</td>\n      <td>4.6</td>\n      <td>3.0</td>\n    </tr>\n    <tr>\n      <th>2008-01-03 00:00:00</th>\n      <td>27.0</td>\n      <td>23.9</td>\n      <td>77.0</td>\n      <td>1013.8</td>\n      <td>14</td>\n      <td>3.3</td>\n      <td>5.0</td>\n    </tr>\n    <tr>\n      <th>2008-01-03 12:00:00</th>\n      <td>29.8</td>\n      <td>24.3</td>\n      <td>64.0</td>\n      <td>1014.5</td>\n      <td>14</td>\n      <td>6.0</td>\n      <td>4.0</td>\n    </tr>\n    <tr>\n      <th>2008-01-03 18:00:00</th>\n      <td>29.8</td>\n      <td>24.7</td>\n      <td>66.0</td>\n      <td>1012.4</td>\n      <td>18</td>\n      <td>5.6</td>\n      <td>4.0</td>\n    </tr>\n    <tr>\n      <th>2008-01-04 00:00:00</th>\n      <td>27.6</td>\n      <td>24.5</td>\n      <td>77.0</td>\n      <td>1014.8</td>\n      <td>14</td>\n      <td>4.0</td>\n      <td>6.0</td>\n    </tr>\n  </tbody>\n</table>\n</div>"
     },
     "metadata": {},
     "execution_count": 17
    }
   ],
   "source": [
    "con = cria_conexao(bd)\n",
    "\n",
    "query = \"SELECT * FROM JoaoPessoa\"\n",
    "\n",
    "df = pd.read_sql_query(sql = query, con = con, parse_dates='Horario', index_col='Horario')\n",
    "\n",
    "\n",
    "con.close()\n",
    "df.head(10)"
   ]
  },
  {
   "cell_type": "code",
   "execution_count": 18,
   "metadata": {},
   "outputs": [
    {
     "output_type": "execute_result",
     "data": {
      "text/plain": "                     TempBulboSeco  TempBulboUmido  UmidadeRelativa  \\\nHorario                                                               \n2008-01-01 00:00:00           21.4            19.4               82   \n2008-01-01 12:00:00           23.4            22.2               91   \n2008-01-01 18:00:00           28.4            22.8               63   \n2008-01-02 00:00:00           21.2            19.8               88   \n2008-01-02 12:00:00           24.2            21.2               76   \n2008-01-02 18:00:00           29.4            24.0               63   \n2008-01-03 00:00:00           21.2            20.0               90   \n2008-01-03 12:00:00           23.2            20.2               76   \n2008-01-03 18:00:00           27.8            22.4               63   \n2008-01-04 00:00:00           22.2            20.8               87   \n\n                     PressaoAtmEstacao DirecaoVento  VelocidadeVento  \\\nHorario                                                                \n2008-01-01 00:00:00              947.2           14              3.3   \n2008-01-01 12:00:00              947.8           14              2.5   \n2008-01-01 18:00:00              945.4           14              4.1   \n2008-01-02 00:00:00              947.7           14              1.6   \n2008-01-02 12:00:00              948.4           14              1.6   \n2008-01-02 18:00:00              945.6           14              2.3   \n2008-01-03 00:00:00              948.7           14              2.8   \n2008-01-03 12:00:00              950.5           18              1.6   \n2008-01-03 18:00:00              946.6           14              4.6   \n2008-01-04 00:00:00              949.7           14              1.6   \n\n                     Nebulosidade  \nHorario                            \n2008-01-01 00:00:00           0.0  \n2008-01-01 12:00:00           8.0  \n2008-01-01 18:00:00           5.0  \n2008-01-02 00:00:00           8.0  \n2008-01-02 12:00:00           7.0  \n2008-01-02 18:00:00           5.0  \n2008-01-03 00:00:00           7.0  \n2008-01-03 12:00:00           8.0  \n2008-01-03 18:00:00           7.0  \n2008-01-04 00:00:00           8.0  ",
      "text/html": "<div>\n<style scoped>\n    .dataframe tbody tr th:only-of-type {\n        vertical-align: middle;\n    }\n\n    .dataframe tbody tr th {\n        vertical-align: top;\n    }\n\n    .dataframe thead th {\n        text-align: right;\n    }\n</style>\n<table border=\"1\" class=\"dataframe\">\n  <thead>\n    <tr style=\"text-align: right;\">\n      <th></th>\n      <th>TempBulboSeco</th>\n      <th>TempBulboUmido</th>\n      <th>UmidadeRelativa</th>\n      <th>PressaoAtmEstacao</th>\n      <th>DirecaoVento</th>\n      <th>VelocidadeVento</th>\n      <th>Nebulosidade</th>\n    </tr>\n    <tr>\n      <th>Horario</th>\n      <th></th>\n      <th></th>\n      <th></th>\n      <th></th>\n      <th></th>\n      <th></th>\n      <th></th>\n    </tr>\n  </thead>\n  <tbody>\n    <tr>\n      <th>2008-01-01 00:00:00</th>\n      <td>21.4</td>\n      <td>19.4</td>\n      <td>82</td>\n      <td>947.2</td>\n      <td>14</td>\n      <td>3.3</td>\n      <td>0.0</td>\n    </tr>\n    <tr>\n      <th>2008-01-01 12:00:00</th>\n      <td>23.4</td>\n      <td>22.2</td>\n      <td>91</td>\n      <td>947.8</td>\n      <td>14</td>\n      <td>2.5</td>\n      <td>8.0</td>\n    </tr>\n    <tr>\n      <th>2008-01-01 18:00:00</th>\n      <td>28.4</td>\n      <td>22.8</td>\n      <td>63</td>\n      <td>945.4</td>\n      <td>14</td>\n      <td>4.1</td>\n      <td>5.0</td>\n    </tr>\n    <tr>\n      <th>2008-01-02 00:00:00</th>\n      <td>21.2</td>\n      <td>19.8</td>\n      <td>88</td>\n      <td>947.7</td>\n      <td>14</td>\n      <td>1.6</td>\n      <td>8.0</td>\n    </tr>\n    <tr>\n      <th>2008-01-02 12:00:00</th>\n      <td>24.2</td>\n      <td>21.2</td>\n      <td>76</td>\n      <td>948.4</td>\n      <td>14</td>\n      <td>1.6</td>\n      <td>7.0</td>\n    </tr>\n    <tr>\n      <th>2008-01-02 18:00:00</th>\n      <td>29.4</td>\n      <td>24.0</td>\n      <td>63</td>\n      <td>945.6</td>\n      <td>14</td>\n      <td>2.3</td>\n      <td>5.0</td>\n    </tr>\n    <tr>\n      <th>2008-01-03 00:00:00</th>\n      <td>21.2</td>\n      <td>20.0</td>\n      <td>90</td>\n      <td>948.7</td>\n      <td>14</td>\n      <td>2.8</td>\n      <td>7.0</td>\n    </tr>\n    <tr>\n      <th>2008-01-03 12:00:00</th>\n      <td>23.2</td>\n      <td>20.2</td>\n      <td>76</td>\n      <td>950.5</td>\n      <td>18</td>\n      <td>1.6</td>\n      <td>8.0</td>\n    </tr>\n    <tr>\n      <th>2008-01-03 18:00:00</th>\n      <td>27.8</td>\n      <td>22.4</td>\n      <td>63</td>\n      <td>946.6</td>\n      <td>14</td>\n      <td>4.6</td>\n      <td>7.0</td>\n    </tr>\n    <tr>\n      <th>2008-01-04 00:00:00</th>\n      <td>22.2</td>\n      <td>20.8</td>\n      <td>87</td>\n      <td>949.7</td>\n      <td>14</td>\n      <td>1.6</td>\n      <td>8.0</td>\n    </tr>\n  </tbody>\n</table>\n</div>"
     },
     "metadata": {},
     "execution_count": 18
    }
   ],
   "source": [
    "con = cria_conexao(bd)\n",
    "\n",
    "query = \"SELECT * FROM Areia\"\n",
    "\n",
    "df = pd.read_sql_query(sql = query, con = con, parse_dates='Horario', index_col='Horario')\n",
    "\n",
    "\n",
    "con.close()\n",
    "df.head(10)"
   ]
  },
  {
   "cell_type": "code",
   "execution_count": 19,
   "metadata": {},
   "outputs": [
    {
     "output_type": "execute_result",
     "data": {
      "text/plain": "   index          Cidade  Latitude  Longitude  Altitude\n0      0           Areia     -6.97     -35.68    574.62\n1      1  Campina-Grande     -7.22     -35.88    547.56\n2      2     Joao-Pessoa     -7.10     -34.86      7.43\n3      3        Monteiro     -7.88     -37.06    603.66\n4      4           Patos     -7.01     -37.26    249.09\n5      5      SaoGoncalo     -6.75     -38.21    233.06",
      "text/html": "<div>\n<style scoped>\n    .dataframe tbody tr th:only-of-type {\n        vertical-align: middle;\n    }\n\n    .dataframe tbody tr th {\n        vertical-align: top;\n    }\n\n    .dataframe thead th {\n        text-align: right;\n    }\n</style>\n<table border=\"1\" class=\"dataframe\">\n  <thead>\n    <tr style=\"text-align: right;\">\n      <th></th>\n      <th>index</th>\n      <th>Cidade</th>\n      <th>Latitude</th>\n      <th>Longitude</th>\n      <th>Altitude</th>\n    </tr>\n  </thead>\n  <tbody>\n    <tr>\n      <th>0</th>\n      <td>0</td>\n      <td>Areia</td>\n      <td>-6.97</td>\n      <td>-35.68</td>\n      <td>574.62</td>\n    </tr>\n    <tr>\n      <th>1</th>\n      <td>1</td>\n      <td>Campina-Grande</td>\n      <td>-7.22</td>\n      <td>-35.88</td>\n      <td>547.56</td>\n    </tr>\n    <tr>\n      <th>2</th>\n      <td>2</td>\n      <td>Joao-Pessoa</td>\n      <td>-7.10</td>\n      <td>-34.86</td>\n      <td>7.43</td>\n    </tr>\n    <tr>\n      <th>3</th>\n      <td>3</td>\n      <td>Monteiro</td>\n      <td>-7.88</td>\n      <td>-37.06</td>\n      <td>603.66</td>\n    </tr>\n    <tr>\n      <th>4</th>\n      <td>4</td>\n      <td>Patos</td>\n      <td>-7.01</td>\n      <td>-37.26</td>\n      <td>249.09</td>\n    </tr>\n    <tr>\n      <th>5</th>\n      <td>5</td>\n      <td>SaoGoncalo</td>\n      <td>-6.75</td>\n      <td>-38.21</td>\n      <td>233.06</td>\n    </tr>\n  </tbody>\n</table>\n</div>"
     },
     "metadata": {},
     "execution_count": 19
    }
   ],
   "source": [
    "con = cria_conexao(bd)\n",
    "\n",
    "query = \"SELECT * FROM Info\"\n",
    "\n",
    "df = pd.read_sql_query(sql = query, con = con)\n",
    "\n",
    "con.close()\n",
    "df.head(10)"
   ]
  },
  {
   "cell_type": "code",
   "execution_count": 24,
   "metadata": {},
   "outputs": [],
   "source": [
    "def carrega_tabela(nome, bd, clima=False):\n",
    "\n",
    "    con = cria_conexao(bd)\n",
    "    query = \"SELECT * FROM {}\".format(nome)\n",
    "    if clima:\n",
    "        df = pd.read_sql_query(query, con=con, parse_dates='Horario', index_col='Horario')\n",
    "    else:\n",
    "        df = pd.read_sql_query(query, con=con)\n",
    "        df.drop(columns='index', inplace=True)\n",
    "    \n",
    "    con.close()\n",
    "    return df"
   ]
  },
  {
   "cell_type": "code",
   "execution_count": 25,
   "metadata": {},
   "outputs": [
    {
     "output_type": "execute_result",
     "data": {
      "text/plain": "                     TempBulboSeco  TempBulboUmido  UmidadeRelativa  \\\nHorario                                                               \n2008-01-01 00:00:00           26.8            22.6             68.0   \n2008-01-01 12:00:00           29.4            23.3             58.0   \n2008-01-01 18:00:00           29.6            23.5             59.0   \n2008-01-02 00:00:00           26.6            22.2             69.0   \n2008-01-02 12:00:00           29.8            23.9             61.0   \n\n                     PressaoAtmEstacao DirecaoVento  VelocidadeVento  \\\nHorario                                                                \n2008-01-01 00:00:00             1012.1           14              3.3   \n2008-01-01 12:00:00             1012.7           14              3.5   \n2008-01-01 18:00:00             1011.2           14              3.3   \n2008-01-02 00:00:00             1012.8           14              2.6   \n2008-01-02 12:00:00             1013.3           14              3.3   \n\n                     Nebulosidade  \nHorario                            \n2008-01-01 00:00:00           3.0  \n2008-01-01 12:00:00           4.0  \n2008-01-01 18:00:00           3.0  \n2008-01-02 00:00:00           4.0  \n2008-01-02 12:00:00           3.0  ",
      "text/html": "<div>\n<style scoped>\n    .dataframe tbody tr th:only-of-type {\n        vertical-align: middle;\n    }\n\n    .dataframe tbody tr th {\n        vertical-align: top;\n    }\n\n    .dataframe thead th {\n        text-align: right;\n    }\n</style>\n<table border=\"1\" class=\"dataframe\">\n  <thead>\n    <tr style=\"text-align: right;\">\n      <th></th>\n      <th>TempBulboSeco</th>\n      <th>TempBulboUmido</th>\n      <th>UmidadeRelativa</th>\n      <th>PressaoAtmEstacao</th>\n      <th>DirecaoVento</th>\n      <th>VelocidadeVento</th>\n      <th>Nebulosidade</th>\n    </tr>\n    <tr>\n      <th>Horario</th>\n      <th></th>\n      <th></th>\n      <th></th>\n      <th></th>\n      <th></th>\n      <th></th>\n      <th></th>\n    </tr>\n  </thead>\n  <tbody>\n    <tr>\n      <th>2008-01-01 00:00:00</th>\n      <td>26.8</td>\n      <td>22.6</td>\n      <td>68.0</td>\n      <td>1012.1</td>\n      <td>14</td>\n      <td>3.3</td>\n      <td>3.0</td>\n    </tr>\n    <tr>\n      <th>2008-01-01 12:00:00</th>\n      <td>29.4</td>\n      <td>23.3</td>\n      <td>58.0</td>\n      <td>1012.7</td>\n      <td>14</td>\n      <td>3.5</td>\n      <td>4.0</td>\n    </tr>\n    <tr>\n      <th>2008-01-01 18:00:00</th>\n      <td>29.6</td>\n      <td>23.5</td>\n      <td>59.0</td>\n      <td>1011.2</td>\n      <td>14</td>\n      <td>3.3</td>\n      <td>3.0</td>\n    </tr>\n    <tr>\n      <th>2008-01-02 00:00:00</th>\n      <td>26.6</td>\n      <td>22.2</td>\n      <td>69.0</td>\n      <td>1012.8</td>\n      <td>14</td>\n      <td>2.6</td>\n      <td>4.0</td>\n    </tr>\n    <tr>\n      <th>2008-01-02 12:00:00</th>\n      <td>29.8</td>\n      <td>23.9</td>\n      <td>61.0</td>\n      <td>1013.3</td>\n      <td>14</td>\n      <td>3.3</td>\n      <td>3.0</td>\n    </tr>\n  </tbody>\n</table>\n</div>"
     },
     "metadata": {},
     "execution_count": 25
    }
   ],
   "source": [
    "df_tabela = carrega_tabela(\"JoaoPessoa\", bd, clima=True)\n",
    "df_tabela.head()"
   ]
  },
  {
   "cell_type": "code",
   "execution_count": 26,
   "metadata": {},
   "outputs": [
    {
     "output_type": "execute_result",
     "data": {
      "text/plain": "           Cidade  Latitude  Longitude  Altitude\n0           Areia     -6.97     -35.68    574.62\n1  Campina-Grande     -7.22     -35.88    547.56\n2     Joao-Pessoa     -7.10     -34.86      7.43\n3        Monteiro     -7.88     -37.06    603.66\n4           Patos     -7.01     -37.26    249.09",
      "text/html": "<div>\n<style scoped>\n    .dataframe tbody tr th:only-of-type {\n        vertical-align: middle;\n    }\n\n    .dataframe tbody tr th {\n        vertical-align: top;\n    }\n\n    .dataframe thead th {\n        text-align: right;\n    }\n</style>\n<table border=\"1\" class=\"dataframe\">\n  <thead>\n    <tr style=\"text-align: right;\">\n      <th></th>\n      <th>Cidade</th>\n      <th>Latitude</th>\n      <th>Longitude</th>\n      <th>Altitude</th>\n    </tr>\n  </thead>\n  <tbody>\n    <tr>\n      <th>0</th>\n      <td>Areia</td>\n      <td>-6.97</td>\n      <td>-35.68</td>\n      <td>574.62</td>\n    </tr>\n    <tr>\n      <th>1</th>\n      <td>Campina-Grande</td>\n      <td>-7.22</td>\n      <td>-35.88</td>\n      <td>547.56</td>\n    </tr>\n    <tr>\n      <th>2</th>\n      <td>Joao-Pessoa</td>\n      <td>-7.10</td>\n      <td>-34.86</td>\n      <td>7.43</td>\n    </tr>\n    <tr>\n      <th>3</th>\n      <td>Monteiro</td>\n      <td>-7.88</td>\n      <td>-37.06</td>\n      <td>603.66</td>\n    </tr>\n    <tr>\n      <th>4</th>\n      <td>Patos</td>\n      <td>-7.01</td>\n      <td>-37.26</td>\n      <td>249.09</td>\n    </tr>\n  </tbody>\n</table>\n</div>"
     },
     "metadata": {},
     "execution_count": 26
    }
   ],
   "source": [
    "df = carrega_tabela(\"Info\", bd, clima=False)\n",
    "df.head()"
   ]
  },
  {
   "cell_type": "code",
   "execution_count": null,
   "metadata": {},
   "outputs": [],
   "source": []
  }
 ],
 "metadata": {
  "language_info": {
   "codemirror_mode": {
    "name": "ipython",
    "version": 3
   },
   "file_extension": ".py",
   "mimetype": "text/x-python",
   "name": "python",
   "nbconvert_exporter": "python",
   "pygments_lexer": "ipython3",
   "version": "3.7.6-final"
  },
  "orig_nbformat": 2,
  "kernelspec": {
   "name": "python3",
   "display_name": "Python 3"
  }
 },
 "nbformat": 4,
 "nbformat_minor": 2
}