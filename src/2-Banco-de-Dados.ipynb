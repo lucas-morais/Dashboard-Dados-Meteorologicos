{
 "cells": [
  {
   "cell_type": "markdown",
   "metadata": {},
   "source": [
    "## 2. Banco de Dados"
   ]
  },
  {
   "cell_type": "markdown",
   "metadata": {},
   "source": [
    "### Descrição\n",
    "\n",
    "- Criação de um banco de dados contendo as informações dos arquivos csv\n",
    "- O banco de dados será criado com a engine SQLite  "
   ]
  },
  {
   "cell_type": "markdown",
   "metadata": {},
   "source": [
    "### __João Pessoa__"
   ]
  },
  {
   "cell_type": "code",
   "execution_count": 1,
   "metadata": {},
   "outputs": [],
   "source": [
    "#Carregando bibliotecas\n",
    "\n",
    "import pandas as pd\n",
    "import sqlite3\n",
    "from bdconfig import carrega_csv, cria_bd, cria_conexao"
   ]
  },
  {
   "cell_type": "code",
   "execution_count": 2,
   "metadata": {},
   "outputs": [
    {
     "output_type": "execute_result",
     "data": {
      "text/plain": "                     TempBulboSeco  TempBulboUmido  UmidadeRelativa  \\\nHorario                                                               \n2008-01-01 00:00:00           26.8            22.6             68.0   \n2008-01-01 12:00:00           29.4            23.3             58.0   \n2008-01-01 18:00:00           29.6            23.5             59.0   \n2008-02-01 00:00:00           26.6            22.2             69.0   \n2008-02-01 12:00:00           29.8            23.9             61.0   \n\n                     PressaoAtmEstacao DirecaoVento  VelocidadeVento  \\\nHorario                                                                \n2008-01-01 00:00:00             1012.1           14              3.3   \n2008-01-01 12:00:00             1012.7           14              3.5   \n2008-01-01 18:00:00             1011.2           14              3.3   \n2008-02-01 00:00:00             1012.8           14              2.6   \n2008-02-01 12:00:00             1013.3           14              3.3   \n\n                     Nebulosidade  \nHorario                            \n2008-01-01 00:00:00           3.0  \n2008-01-01 12:00:00           4.0  \n2008-01-01 18:00:00           3.0  \n2008-02-01 00:00:00           4.0  \n2008-02-01 12:00:00           3.0  ",
      "text/html": "<div>\n<style scoped>\n    .dataframe tbody tr th:only-of-type {\n        vertical-align: middle;\n    }\n\n    .dataframe tbody tr th {\n        vertical-align: top;\n    }\n\n    .dataframe thead th {\n        text-align: right;\n    }\n</style>\n<table border=\"1\" class=\"dataframe\">\n  <thead>\n    <tr style=\"text-align: right;\">\n      <th></th>\n      <th>TempBulboSeco</th>\n      <th>TempBulboUmido</th>\n      <th>UmidadeRelativa</th>\n      <th>PressaoAtmEstacao</th>\n      <th>DirecaoVento</th>\n      <th>VelocidadeVento</th>\n      <th>Nebulosidade</th>\n    </tr>\n    <tr>\n      <th>Horario</th>\n      <th></th>\n      <th></th>\n      <th></th>\n      <th></th>\n      <th></th>\n      <th></th>\n      <th></th>\n    </tr>\n  </thead>\n  <tbody>\n    <tr>\n      <th>2008-01-01 00:00:00</th>\n      <td>26.8</td>\n      <td>22.6</td>\n      <td>68.0</td>\n      <td>1012.1</td>\n      <td>14</td>\n      <td>3.3</td>\n      <td>3.0</td>\n    </tr>\n    <tr>\n      <th>2008-01-01 12:00:00</th>\n      <td>29.4</td>\n      <td>23.3</td>\n      <td>58.0</td>\n      <td>1012.7</td>\n      <td>14</td>\n      <td>3.5</td>\n      <td>4.0</td>\n    </tr>\n    <tr>\n      <th>2008-01-01 18:00:00</th>\n      <td>29.6</td>\n      <td>23.5</td>\n      <td>59.0</td>\n      <td>1011.2</td>\n      <td>14</td>\n      <td>3.3</td>\n      <td>3.0</td>\n    </tr>\n    <tr>\n      <th>2008-02-01 00:00:00</th>\n      <td>26.6</td>\n      <td>22.2</td>\n      <td>69.0</td>\n      <td>1012.8</td>\n      <td>14</td>\n      <td>2.6</td>\n      <td>4.0</td>\n    </tr>\n    <tr>\n      <th>2008-02-01 12:00:00</th>\n      <td>29.8</td>\n      <td>23.9</td>\n      <td>61.0</td>\n      <td>1013.3</td>\n      <td>14</td>\n      <td>3.3</td>\n      <td>3.0</td>\n    </tr>\n  </tbody>\n</table>\n</div>"
     },
     "metadata": {},
     "execution_count": 2
    }
   ],
   "source": [
    "arquivo = '../dados/JoaoPessoa_clima.csv'\n",
    "\n",
    "df = carrega_csv(arquivo)\n",
    "df.head()"
   ]
  },
  {
   "cell_type": "code",
   "execution_count": 4,
   "metadata": {},
   "outputs": [
    {
     "output_type": "stream",
     "name": "stdout",
     "text": "2.6.0\n"
    }
   ],
   "source": [
    "bd_teste='../dados/teste.db'\n",
    "cria_bd(bd_teste)"
   ]
  },
  {
   "cell_type": "code",
   "execution_count": 6,
   "metadata": {},
   "outputs": [],
   "source": [
    "con = cria_conexao(bd_teste)\n",
    "df.to_sql(name=\"JoaoPessoa\", con=con)"
   ]
  },
  {
   "cell_type": "code",
   "execution_count": 11,
   "metadata": {},
   "outputs": [],
   "source": [
    "query = \"SELECT * from JoaoPessoa\""
   ]
  },
  {
   "cell_type": "code",
   "execution_count": 16,
   "metadata": {},
   "outputs": [
    {
     "output_type": "execute_result",
     "data": {
      "text/plain": "                     TempBulboSeco  TempBulboUmido  UmidadeRelativa  \\\nHorario                                                               \n2008-01-01 00:00:00           26.8            22.6             68.0   \n2008-01-01 12:00:00           29.4            23.3             58.0   \n2008-01-01 18:00:00           29.6            23.5             59.0   \n2008-02-01 00:00:00           26.6            22.2             69.0   \n2008-02-01 12:00:00           29.8            23.9             61.0   \n\n                     PressaoAtmEstacao DirecaoVento  VelocidadeVento  \\\nHorario                                                                \n2008-01-01 00:00:00             1012.1           14              3.3   \n2008-01-01 12:00:00             1012.7           14              3.5   \n2008-01-01 18:00:00             1011.2           14              3.3   \n2008-02-01 00:00:00             1012.8           14              2.6   \n2008-02-01 12:00:00             1013.3           14              3.3   \n\n                     Nebulosidade  \nHorario                            \n2008-01-01 00:00:00           3.0  \n2008-01-01 12:00:00           4.0  \n2008-01-01 18:00:00           3.0  \n2008-02-01 00:00:00           4.0  \n2008-02-01 12:00:00           3.0  ",
      "text/html": "<div>\n<style scoped>\n    .dataframe tbody tr th:only-of-type {\n        vertical-align: middle;\n    }\n\n    .dataframe tbody tr th {\n        vertical-align: top;\n    }\n\n    .dataframe thead th {\n        text-align: right;\n    }\n</style>\n<table border=\"1\" class=\"dataframe\">\n  <thead>\n    <tr style=\"text-align: right;\">\n      <th></th>\n      <th>TempBulboSeco</th>\n      <th>TempBulboUmido</th>\n      <th>UmidadeRelativa</th>\n      <th>PressaoAtmEstacao</th>\n      <th>DirecaoVento</th>\n      <th>VelocidadeVento</th>\n      <th>Nebulosidade</th>\n    </tr>\n    <tr>\n      <th>Horario</th>\n      <th></th>\n      <th></th>\n      <th></th>\n      <th></th>\n      <th></th>\n      <th></th>\n      <th></th>\n    </tr>\n  </thead>\n  <tbody>\n    <tr>\n      <th>2008-01-01 00:00:00</th>\n      <td>26.8</td>\n      <td>22.6</td>\n      <td>68.0</td>\n      <td>1012.1</td>\n      <td>14</td>\n      <td>3.3</td>\n      <td>3.0</td>\n    </tr>\n    <tr>\n      <th>2008-01-01 12:00:00</th>\n      <td>29.4</td>\n      <td>23.3</td>\n      <td>58.0</td>\n      <td>1012.7</td>\n      <td>14</td>\n      <td>3.5</td>\n      <td>4.0</td>\n    </tr>\n    <tr>\n      <th>2008-01-01 18:00:00</th>\n      <td>29.6</td>\n      <td>23.5</td>\n      <td>59.0</td>\n      <td>1011.2</td>\n      <td>14</td>\n      <td>3.3</td>\n      <td>3.0</td>\n    </tr>\n    <tr>\n      <th>2008-02-01 00:00:00</th>\n      <td>26.6</td>\n      <td>22.2</td>\n      <td>69.0</td>\n      <td>1012.8</td>\n      <td>14</td>\n      <td>2.6</td>\n      <td>4.0</td>\n    </tr>\n    <tr>\n      <th>2008-02-01 12:00:00</th>\n      <td>29.8</td>\n      <td>23.9</td>\n      <td>61.0</td>\n      <td>1013.3</td>\n      <td>14</td>\n      <td>3.3</td>\n      <td>3.0</td>\n    </tr>\n  </tbody>\n</table>\n</div>"
     },
     "metadata": {},
     "execution_count": 16
    }
   ],
   "source": [
    "df_jp = pd.read_sql_query(query, con=con, parse_dates='Horario', index_col='Horario')\n",
    "df_jp.head()"
   ]
  },
  {
   "cell_type": "code",
   "execution_count": 17,
   "metadata": {},
   "outputs": [
    {
     "output_type": "execute_result",
     "data": {
      "text/plain": "TempBulboSeco        float64\nTempBulboUmido       float64\nUmidadeRelativa      float64\nPressaoAtmEstacao    float64\nDirecaoVento          object\nVelocidadeVento      float64\nNebulosidade         float64\ndtype: object"
     },
     "metadata": {},
     "execution_count": 17
    }
   ],
   "source": [
    "df_jp.dtypes"
   ]
  },
  {
   "cell_type": "code",
   "execution_count": 18,
   "metadata": {},
   "outputs": [
    {
     "output_type": "execute_result",
     "data": {
      "text/plain": "DatetimeIndex(['2008-01-01 00:00:00', '2008-01-01 12:00:00',\n               '2008-01-01 18:00:00', '2008-02-01 00:00:00',\n               '2008-02-01 12:00:00', '2008-02-01 18:00:00',\n               '2008-03-01 00:00:00', '2008-03-01 12:00:00',\n               '2008-03-01 18:00:00', '2008-04-01 00:00:00',\n               ...\n               '2018-12-28 18:00:00', '2018-12-29 00:00:00',\n               '2018-12-29 12:00:00', '2018-12-29 18:00:00',\n               '2018-12-30 00:00:00', '2018-12-30 12:00:00',\n               '2018-12-30 18:00:00', '2018-12-31 00:00:00',\n               '2018-12-31 12:00:00', '2018-12-31 18:00:00'],\n              dtype='datetime64[ns]', name='Horario', length=11938, freq=None)"
     },
     "metadata": {},
     "execution_count": 18
    }
   ],
   "source": [
    "df_jp.index"
   ]
  },
  {
   "cell_type": "code",
   "execution_count": 19,
   "metadata": {},
   "outputs": [],
   "source": [
    "con.close()"
   ]
  },
  {
   "cell_type": "code",
   "execution_count": 20,
   "metadata": {},
   "outputs": [],
   "source": [
    "from os import remove\n",
    "remove(bd_teste)"
   ]
  },
  {
   "cell_type": "markdown",
   "metadata": {},
   "source": [
    "### __Criando Banco de da Dados__"
   ]
  },
  {
   "cell_type": "code",
   "execution_count": 37,
   "metadata": {},
   "outputs": [],
   "source": [
    "import os\n",
    "\n",
    "\n",
    "def bd_clima():\n",
    "    path = \"../dados/\"\n",
    "\n",
    "    if \"clima.db\" in os.listdir(path):\n",
    "        print(\"Banco de dados já criado\")\n",
    "    else:\n",
    "        \n",
    "        cria_bd(path+\"clima.db\")\n",
    "        con = cria_conexao(path+\"clima.db\")\n",
    "\n",
    "        arquivos = [arq for arq in os.listdir(path) if '.csv' in arq]\n",
    "\n",
    "        for tabela in arquivos:\n",
    "\n",
    "            if '_clima.csv' in tabela:\n",
    "                nome= tabela.rsplit(\"_clima.csv\")\n",
    "                df = carrega_csv(path+tabela)\n",
    "                df.to_sql(nome[0], con)\n",
    "            else:\n",
    "                nome = tabela.rsplit(\".csv\")\n",
    "                df = carrega_csv(path+tabela)\n",
    "                df.to_sql(nome[0], con)\n"
   ]
  },
  {
   "cell_type": "code",
   "execution_count": 38,
   "metadata": {},
   "outputs": [
    {
     "output_type": "stream",
     "name": "stdout",
     "text": "2.6.0\n"
    }
   ],
   "source": [
    "bd_clima()"
   ]
  },
  {
   "cell_type": "code",
   "execution_count": 45,
   "metadata": {},
   "outputs": [],
   "source": [
    "t = \"JoaoPessoa_clima.csv\""
   ]
  },
  {
   "cell_type": "code",
   "execution_count": 47,
   "metadata": {},
   "outputs": [
    {
     "output_type": "execute_result",
     "data": {
      "text/plain": "10"
     },
     "metadata": {},
     "execution_count": 47
    }
   ],
   "source": [
    "t.rfind(\"_\")"
   ]
  },
  {
   "cell_type": "code",
   "execution_count": 50,
   "metadata": {},
   "outputs": [
    {
     "output_type": "execute_result",
     "data": {
      "text/plain": "['JoaoPessoa', '']"
     },
     "metadata": {},
     "execution_count": 50
    }
   ],
   "source": [
    "t.rsplit(\"_clima.csv\")"
   ]
  },
  {
   "cell_type": "code",
   "execution_count": null,
   "metadata": {},
   "outputs": [],
   "source": []
  }
 ],
 "metadata": {
  "language_info": {
   "codemirror_mode": {
    "name": "ipython",
    "version": 3
   },
   "file_extension": ".py",
   "mimetype": "text/x-python",
   "name": "python",
   "nbconvert_exporter": "python",
   "pygments_lexer": "ipython3",
   "version": "3.7.6-final"
  },
  "orig_nbformat": 2,
  "kernelspec": {
   "name": "python3",
   "display_name": "Python 3"
  }
 },
 "nbformat": 4,
 "nbformat_minor": 2
}