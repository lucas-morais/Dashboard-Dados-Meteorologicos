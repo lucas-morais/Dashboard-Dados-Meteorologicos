{
 "cells": [
  {
   "cell_type": "markdown",
   "metadata": {},
   "source": [
    "## __1. Carga de dados__"
   ]
  },
  {
   "cell_type": "markdown",
   "metadata": {},
   "source": [
    "#### __Objtivos__\n",
    "\n",
    "- Explorar os arquivos csv com dados metereológicos\n",
    "- Adaptar os tipos de dados para melhor se encaixarem no projeto\n",
    "- Criar um banco de dados (clima.db) para carga de dados no dashboard\n",
    "- Criar funções para criação, conexão e consulta dos dados \n",
    "- Testar as funções criadas"
   ]
  },
  {
   "cell_type": "markdown",
   "metadata": {},
   "source": [
    "#### __Descrição__\n",
    "    \n",
    "    \n",
    "   - Os arquivos forão obtidos do INMET(Instituto Nacional de Meteorologia)\n",
    "   - É possível fazer downloads de dados obtidos em diversas estações espalhadas pelo país\n",
    "   - Foram escolhidas apenas os dados das cidades do estado da Paraíba disponíveis\n",
    "   - Perírodo\n",
    "       - 01/01/2008 - 31/12/2018\n",
    "\n",
    "- Dados de medição \n",
    "    - Temperatura de Bulbo Seco\n",
    "    - Temperautra de Bulbo Úmido\n",
    "    - Umidade\n",
    "    - Pressão Atmosférica\n",
    "    - Direção do Vento\n",
    "    - Velocidade do vento\n",
    "    - Nebulosidade\n",
    "\n",
    "- Dados de Informação\n",
    "    - Latitude\n",
    "    - Longitude\n",
    "    - Altitude\n",
    "\n",
    "- Nomes dos arquivos\n",
    "    - Os dados estão salvos em formato csv\n",
    "    - O nome do arquivo é composto pelo nome da cidade junto ao sufixo _clima, além da extensão\n",
    "    - Para as cidades com nomes compostos, o espaço entre os nomes é ignorado\n",
    "    \n",
    "- Banco de dados\n",
    "    - Arquivo clima.db criado com SQLite3\n",
    "    - As funções serão criadas apenas com auxílio de dataframes (pandas) e com a própria api do SQLite3"
   ]
  },
  {
   "cell_type": "markdown",
   "metadata": {},
   "source": [
    "#### Explorando arquivo csv: João Pessoa"
   ]
  },
  {
   "cell_type": "code",
   "execution_count": 1,
   "metadata": {},
   "outputs": [],
   "source": [
    "# Carregando biblioteca\n",
    "import pandas as pd"
   ]
  },
  {
   "cell_type": "code",
   "execution_count": 3,
   "metadata": {},
   "outputs": [],
   "source": [
    "#Leitura do arquivo\n",
    "#O arquivo csv tem colunas semparadas por ';' \n",
    "df_jp = pd.read_csv(\"../dados/JoaoPessoa_clima.csv\", sep = \";\")"
   ]
  },
  {
   "cell_type": "code",
   "execution_count": 4,
   "metadata": {},
   "outputs": [
    {
     "output_type": "execute_result",
     "data": {
      "text/plain": "   Estacao        Data  Hora  TempBulboSeco  TempBulboUmido  UmidadeRelativa  \\\n0    82798  01/01/2008     0           26.8            22.6             68.0   \n1    82798  01/01/2008  1200           29.4            23.3             58.0   \n2    82798  01/01/2008  1800           29.6            23.5             59.0   \n3    82798  02/01/2008     0           26.6            22.2             69.0   \n4    82798  02/01/2008  1200           29.8            23.9             61.0   \n\n   PressaoAtmEstacao  DirecaoVento  VelocidadeVento  Nebulosidade  Unnamed: 10  \n0             1012.1          14.0              3.3           3.0          NaN  \n1             1012.7          14.0              3.5           4.0          NaN  \n2             1011.2          14.0              3.3           3.0          NaN  \n3             1012.8          14.0              2.6           4.0          NaN  \n4             1013.3          14.0              3.3           3.0          NaN  ",
      "text/html": "<div>\n<style scoped>\n    .dataframe tbody tr th:only-of-type {\n        vertical-align: middle;\n    }\n\n    .dataframe tbody tr th {\n        vertical-align: top;\n    }\n\n    .dataframe thead th {\n        text-align: right;\n    }\n</style>\n<table border=\"1\" class=\"dataframe\">\n  <thead>\n    <tr style=\"text-align: right;\">\n      <th></th>\n      <th>Estacao</th>\n      <th>Data</th>\n      <th>Hora</th>\n      <th>TempBulboSeco</th>\n      <th>TempBulboUmido</th>\n      <th>UmidadeRelativa</th>\n      <th>PressaoAtmEstacao</th>\n      <th>DirecaoVento</th>\n      <th>VelocidadeVento</th>\n      <th>Nebulosidade</th>\n      <th>Unnamed: 10</th>\n    </tr>\n  </thead>\n  <tbody>\n    <tr>\n      <th>0</th>\n      <td>82798</td>\n      <td>01/01/2008</td>\n      <td>0</td>\n      <td>26.8</td>\n      <td>22.6</td>\n      <td>68.0</td>\n      <td>1012.1</td>\n      <td>14.0</td>\n      <td>3.3</td>\n      <td>3.0</td>\n      <td>NaN</td>\n    </tr>\n    <tr>\n      <th>1</th>\n      <td>82798</td>\n      <td>01/01/2008</td>\n      <td>1200</td>\n      <td>29.4</td>\n      <td>23.3</td>\n      <td>58.0</td>\n      <td>1012.7</td>\n      <td>14.0</td>\n      <td>3.5</td>\n      <td>4.0</td>\n      <td>NaN</td>\n    </tr>\n    <tr>\n      <th>2</th>\n      <td>82798</td>\n      <td>01/01/2008</td>\n      <td>1800</td>\n      <td>29.6</td>\n      <td>23.5</td>\n      <td>59.0</td>\n      <td>1011.2</td>\n      <td>14.0</td>\n      <td>3.3</td>\n      <td>3.0</td>\n      <td>NaN</td>\n    </tr>\n    <tr>\n      <th>3</th>\n      <td>82798</td>\n      <td>02/01/2008</td>\n      <td>0</td>\n      <td>26.6</td>\n      <td>22.2</td>\n      <td>69.0</td>\n      <td>1012.8</td>\n      <td>14.0</td>\n      <td>2.6</td>\n      <td>4.0</td>\n      <td>NaN</td>\n    </tr>\n    <tr>\n      <th>4</th>\n      <td>82798</td>\n      <td>02/01/2008</td>\n      <td>1200</td>\n      <td>29.8</td>\n      <td>23.9</td>\n      <td>61.0</td>\n      <td>1013.3</td>\n      <td>14.0</td>\n      <td>3.3</td>\n      <td>3.0</td>\n      <td>NaN</td>\n    </tr>\n  </tbody>\n</table>\n</div>"
     },
     "metadata": {},
     "execution_count": 4
    }
   ],
   "source": [
    "#5 primeiras linhas\n",
    "df_jp.head()"
   ]
  },
  {
   "cell_type": "markdown",
   "metadata": {},
   "source": [
    "- A coluna Estacao pode ser descartada\n",
    "- A última coluna deve ser descartada.\n",
    "- As colunas Data e Hora podem ser combinadas em uma só coluna do tipo datetime\n",
    "- A coluna DireçãoVento, apesar de represntada por valores numéricos, é categórica\n",
    "    - A informação dos labels pode ser decodificada com o arquivo __DirecaoVento.csv__"
   ]
  },
  {
   "cell_type": "code",
   "execution_count": 5,
   "metadata": {},
   "outputs": [
    {
     "output_type": "execute_result",
     "data": {
      "text/plain": "Estacao                int64\nData                  object\nHora                   int64\nTempBulboSeco        float64\nTempBulboUmido       float64\nUmidadeRelativa      float64\nPressaoAtmEstacao    float64\nDirecaoVento         float64\nVelocidadeVento      float64\nNebulosidade         float64\nUnnamed: 10          float64\ndtype: object"
     },
     "metadata": {},
     "execution_count": 5
    }
   ],
   "source": [
    "df_jp.dtypes"
   ]
  },
  {
   "cell_type": "markdown",
   "metadata": {},
   "source": [
    "#### __Modificando estrutura dos dados__\n",
    "\n",
    "1. Excluir coluna estação\n",
    "2. Excluir a última coluna\n",
    "3. Combinar as Data e Hora em uma única coluna chamada Horario\n",
    "4. Modificar tipo de dados de Horario para datetime\n",
    "5. Escolher Horario como índice da tabela\n",
    "6. Utilizar dados da tabela DirecaoVento.csv para modificar valores da coluna DirecaoVento"
   ]
  },
  {
   "cell_type": "code",
   "execution_count": 18,
   "metadata": {},
   "outputs": [],
   "source": [
    "#Mudando especificações na carga de dados\n",
    "df_jp = pd.read_csv(\"../dados/JoaoPessoa_clima.csv\",\n",
    "            delimiter = \";\",\n",
    "            usecols=list(range(1,10)),               #Exclui a primeria(Estacao) e última coluna\n",
    "            dtype={'Hora':'str','DirecaoVento':'str'},\n",
    "            parse_dates=[['Data', 'Hora']],       #Escolhe a combinação das colunas como ti datetime\n",
    "            dayfirst = True,\n",
    "            index_col = 0\n",
    "            )   "
   ]
  },
  {
   "cell_type": "code",
   "execution_count": 12,
   "metadata": {},
   "outputs": [
    {
     "output_type": "execute_result",
     "data": {
      "text/plain": "                     TempBulboSeco  TempBulboUmido  UmidadeRelativa  \\\nData_Hora                                                             \n2008-01-01 00:00:00           26.8            22.6             68.0   \n2008-01-01 12:00:00           29.4            23.3             58.0   \n2008-01-01 18:00:00           29.6            23.5             59.0   \n2008-01-02 00:00:00           26.6            22.2             69.0   \n2008-01-02 12:00:00           29.8            23.9             61.0   \n2008-01-02 18:00:00           29.6            24.1             63.0   \n2008-01-03 00:00:00           27.0            23.9             77.0   \n2008-01-03 12:00:00           29.8            24.3             64.0   \n2008-01-03 18:00:00           29.8            24.7             66.0   \n2008-01-04 00:00:00           27.6            24.5             77.0   \n\n                     PressaoAtmEstacao DirecaoVento  VelocidadeVento  \\\nData_Hora                                                              \n2008-01-01 00:00:00             1012.1           14              3.3   \n2008-01-01 12:00:00             1012.7           14              3.5   \n2008-01-01 18:00:00             1011.2           14              3.3   \n2008-01-02 00:00:00             1012.8           14              2.6   \n2008-01-02 12:00:00             1013.3           14              3.3   \n2008-01-02 18:00:00             1010.8           14              4.6   \n2008-01-03 00:00:00             1013.8           14              3.3   \n2008-01-03 12:00:00             1014.5           14              6.0   \n2008-01-03 18:00:00             1012.4           18              5.6   \n2008-01-04 00:00:00             1014.8           14              4.0   \n\n                     Nebulosidade  \nData_Hora                          \n2008-01-01 00:00:00           3.0  \n2008-01-01 12:00:00           4.0  \n2008-01-01 18:00:00           3.0  \n2008-01-02 00:00:00           4.0  \n2008-01-02 12:00:00           3.0  \n2008-01-02 18:00:00           3.0  \n2008-01-03 00:00:00           5.0  \n2008-01-03 12:00:00           4.0  \n2008-01-03 18:00:00           4.0  \n2008-01-04 00:00:00           6.0  ",
      "text/html": "<div>\n<style scoped>\n    .dataframe tbody tr th:only-of-type {\n        vertical-align: middle;\n    }\n\n    .dataframe tbody tr th {\n        vertical-align: top;\n    }\n\n    .dataframe thead th {\n        text-align: right;\n    }\n</style>\n<table border=\"1\" class=\"dataframe\">\n  <thead>\n    <tr style=\"text-align: right;\">\n      <th></th>\n      <th>TempBulboSeco</th>\n      <th>TempBulboUmido</th>\n      <th>UmidadeRelativa</th>\n      <th>PressaoAtmEstacao</th>\n      <th>DirecaoVento</th>\n      <th>VelocidadeVento</th>\n      <th>Nebulosidade</th>\n    </tr>\n    <tr>\n      <th>Data_Hora</th>\n      <th></th>\n      <th></th>\n      <th></th>\n      <th></th>\n      <th></th>\n      <th></th>\n      <th></th>\n    </tr>\n  </thead>\n  <tbody>\n    <tr>\n      <th>2008-01-01 00:00:00</th>\n      <td>26.8</td>\n      <td>22.6</td>\n      <td>68.0</td>\n      <td>1012.1</td>\n      <td>14</td>\n      <td>3.3</td>\n      <td>3.0</td>\n    </tr>\n    <tr>\n      <th>2008-01-01 12:00:00</th>\n      <td>29.4</td>\n      <td>23.3</td>\n      <td>58.0</td>\n      <td>1012.7</td>\n      <td>14</td>\n      <td>3.5</td>\n      <td>4.0</td>\n    </tr>\n    <tr>\n      <th>2008-01-01 18:00:00</th>\n      <td>29.6</td>\n      <td>23.5</td>\n      <td>59.0</td>\n      <td>1011.2</td>\n      <td>14</td>\n      <td>3.3</td>\n      <td>3.0</td>\n    </tr>\n    <tr>\n      <th>2008-01-02 00:00:00</th>\n      <td>26.6</td>\n      <td>22.2</td>\n      <td>69.0</td>\n      <td>1012.8</td>\n      <td>14</td>\n      <td>2.6</td>\n      <td>4.0</td>\n    </tr>\n    <tr>\n      <th>2008-01-02 12:00:00</th>\n      <td>29.8</td>\n      <td>23.9</td>\n      <td>61.0</td>\n      <td>1013.3</td>\n      <td>14</td>\n      <td>3.3</td>\n      <td>3.0</td>\n    </tr>\n    <tr>\n      <th>2008-01-02 18:00:00</th>\n      <td>29.6</td>\n      <td>24.1</td>\n      <td>63.0</td>\n      <td>1010.8</td>\n      <td>14</td>\n      <td>4.6</td>\n      <td>3.0</td>\n    </tr>\n    <tr>\n      <th>2008-01-03 00:00:00</th>\n      <td>27.0</td>\n      <td>23.9</td>\n      <td>77.0</td>\n      <td>1013.8</td>\n      <td>14</td>\n      <td>3.3</td>\n      <td>5.0</td>\n    </tr>\n    <tr>\n      <th>2008-01-03 12:00:00</th>\n      <td>29.8</td>\n      <td>24.3</td>\n      <td>64.0</td>\n      <td>1014.5</td>\n      <td>14</td>\n      <td>6.0</td>\n      <td>4.0</td>\n    </tr>\n    <tr>\n      <th>2008-01-03 18:00:00</th>\n      <td>29.8</td>\n      <td>24.7</td>\n      <td>66.0</td>\n      <td>1012.4</td>\n      <td>18</td>\n      <td>5.6</td>\n      <td>4.0</td>\n    </tr>\n    <tr>\n      <th>2008-01-04 00:00:00</th>\n      <td>27.6</td>\n      <td>24.5</td>\n      <td>77.0</td>\n      <td>1014.8</td>\n      <td>14</td>\n      <td>4.0</td>\n      <td>6.0</td>\n    </tr>\n  </tbody>\n</table>\n</div>"
     },
     "metadata": {},
     "execution_count": 12
    }
   ],
   "source": [
    "df_jp.head(10)"
   ]
  },
  {
   "cell_type": "code",
   "execution_count": 19,
   "metadata": {},
   "outputs": [
    {
     "output_type": "execute_result",
     "data": {
      "text/plain": "TempBulboSeco        float64\nTempBulboUmido       float64\nUmidadeRelativa      float64\nPressaoAtmEstacao    float64\nDirecaoVento          object\nVelocidadeVento      float64\nNebulosidade         float64\ndtype: object"
     },
     "metadata": {},
     "execution_count": 19
    }
   ],
   "source": [
    "df_jp.dtypes"
   ]
  },
  {
   "cell_type": "code",
   "execution_count": 20,
   "metadata": {},
   "outputs": [
    {
     "output_type": "execute_result",
     "data": {
      "text/plain": "DatetimeIndex(['2008-01-01 00:00:00', '2008-01-01 12:00:00',\n               '2008-01-01 18:00:00', '2008-01-02 00:00:00',\n               '2008-01-02 12:00:00', '2008-01-02 18:00:00',\n               '2008-01-03 00:00:00', '2008-01-03 12:00:00',\n               '2008-01-03 18:00:00', '2008-01-04 00:00:00',\n               ...\n               '2018-12-28 18:00:00', '2018-12-29 00:00:00',\n               '2018-12-29 12:00:00', '2018-12-29 18:00:00',\n               '2018-12-30 00:00:00', '2018-12-30 12:00:00',\n               '2018-12-30 18:00:00', '2018-12-31 00:00:00',\n               '2018-12-31 12:00:00', '2018-12-31 18:00:00'],\n              dtype='datetime64[ns]', name='Horario', length=11938, freq=None)"
     },
     "metadata": {},
     "execution_count": 20
    }
   ],
   "source": [
    "#Modificando nome do índice\n",
    "df_jp.index.rename('Horario', inplace=True)\n",
    "df_jp.index"
   ]
  },
  {
   "cell_type": "code",
   "execution_count": 22,
   "metadata": {},
   "outputs": [
    {
     "output_type": "execute_result",
     "data": {
      "text/plain": "  Codigo         Descricao Sigla\n0      0             Calma     C\n1      1  Norte - Nordeste   NNE\n2      2  Norte - Nordeste   NNE\n3      3  Norte - Nordeste   NNE\n4      4  Norte - Nordeste   NNE",
      "text/html": "<div>\n<style scoped>\n    .dataframe tbody tr th:only-of-type {\n        vertical-align: middle;\n    }\n\n    .dataframe tbody tr th {\n        vertical-align: top;\n    }\n\n    .dataframe thead th {\n        text-align: right;\n    }\n</style>\n<table border=\"1\" class=\"dataframe\">\n  <thead>\n    <tr style=\"text-align: right;\">\n      <th></th>\n      <th>Codigo</th>\n      <th>Descricao</th>\n      <th>Sigla</th>\n    </tr>\n  </thead>\n  <tbody>\n    <tr>\n      <th>0</th>\n      <td>0</td>\n      <td>Calma</td>\n      <td>C</td>\n    </tr>\n    <tr>\n      <th>1</th>\n      <td>1</td>\n      <td>Norte - Nordeste</td>\n      <td>NNE</td>\n    </tr>\n    <tr>\n      <th>2</th>\n      <td>2</td>\n      <td>Norte - Nordeste</td>\n      <td>NNE</td>\n    </tr>\n    <tr>\n      <th>3</th>\n      <td>3</td>\n      <td>Norte - Nordeste</td>\n      <td>NNE</td>\n    </tr>\n    <tr>\n      <th>4</th>\n      <td>4</td>\n      <td>Norte - Nordeste</td>\n      <td>NNE</td>\n    </tr>\n  </tbody>\n</table>\n</div>"
     },
     "metadata": {},
     "execution_count": 22
    }
   ],
   "source": [
    "#Carregando arquivo com informações sobre a direção do vento\n",
    "vento = pd.read_csv('../dados/DirecaoVento.csv', delimiter=';', dtype={'Codigo':'str' })\n",
    "vento.head()\n",
    " "
   ]
  },
  {
   "cell_type": "code",
   "execution_count": 23,
   "metadata": {},
   "outputs": [
    {
     "output_type": "execute_result",
     "data": {
      "text/plain": "Codigo       object\nDescricao    object\nSigla        object\ndtype: object"
     },
     "metadata": {},
     "execution_count": 23
    }
   ],
   "source": [
    "vento.dtypes"
   ]
  },
  {
   "cell_type": "code",
   "execution_count": 27,
   "metadata": {},
   "outputs": [
    {
     "output_type": "execute_result",
     "data": {
      "text/plain": "{'0': 'Calma',\n '1': 'Norte - Nordeste',\n '2': 'Norte - Nordeste',\n '3': 'Norte - Nordeste',\n '4': 'Norte - Nordeste',\n '5': 'Nordeste',\n '6': 'Nordeste',\n '7': 'Leste - Nordeste',\n '8': 'Leste - Nordeste',\n '9': 'Leste',\n '10': 'Leste',\n '11': 'Leste - Sudeste',\n '12': 'Leste - Sudeste',\n '13': 'Leste - Sudeste',\n '14': 'Sudeste',\n '15': 'Sudeste',\n '16': 'Sul - Sudeste',\n '17': 'Sul - Sudeste',\n '18': 'Sul',\n '19': 'Sul',\n '20': 'Sul - Sudoeste',\n '21': 'Sul - Sudoeste',\n '22': 'Sul - Sudoeste',\n '23': 'Sudoeste',\n '24': 'Sudoeste',\n '25': 'Oeste - Sudoeste',\n '26': 'Oeste - Sudoeste',\n '27': 'Oeste',\n '28': 'Oeste',\n '29': 'Oeste - Noroeste',\n '30': 'Oeste - Noroeste',\n '31': 'Oeste - Noroeste',\n '32': 'Noroeste',\n '33': 'Noroeste',\n '34': 'Norte - Noroeste',\n '35': 'Norte - Noroeste',\n '36': 'Norte'}"
     },
     "metadata": {},
     "execution_count": 27
    }
   ],
   "source": [
    "#Criando dicionário para mapear código de direções do vento\n",
    "mapper = dict(zip(vento['Codigo'], vento['Descricao']))\n",
    "mapper"
   ]
  },
  {
   "cell_type": "code",
   "execution_count": 30,
   "metadata": {},
   "outputs": [
    {
     "output_type": "execute_result",
     "data": {
      "text/plain": "                     TempBulboSeco  TempBulboUmido  UmidadeRelativa  \\\nHorario                                                               \n2008-01-01 00:00:00           26.8            22.6             68.0   \n2008-01-01 12:00:00           29.4            23.3             58.0   \n2008-01-01 18:00:00           29.6            23.5             59.0   \n2008-01-02 00:00:00           26.6            22.2             69.0   \n2008-01-02 12:00:00           29.8            23.9             61.0   \n\n                     PressaoAtmEstacao DirecaoVento  VelocidadeVento  \\\nHorario                                                                \n2008-01-01 00:00:00             1012.1      Sudeste              3.3   \n2008-01-01 12:00:00             1012.7      Sudeste              3.5   \n2008-01-01 18:00:00             1011.2      Sudeste              3.3   \n2008-01-02 00:00:00             1012.8      Sudeste              2.6   \n2008-01-02 12:00:00             1013.3      Sudeste              3.3   \n\n                     Nebulosidade  \nHorario                            \n2008-01-01 00:00:00           3.0  \n2008-01-01 12:00:00           4.0  \n2008-01-01 18:00:00           3.0  \n2008-01-02 00:00:00           4.0  \n2008-01-02 12:00:00           3.0  ",
      "text/html": "<div>\n<style scoped>\n    .dataframe tbody tr th:only-of-type {\n        vertical-align: middle;\n    }\n\n    .dataframe tbody tr th {\n        vertical-align: top;\n    }\n\n    .dataframe thead th {\n        text-align: right;\n    }\n</style>\n<table border=\"1\" class=\"dataframe\">\n  <thead>\n    <tr style=\"text-align: right;\">\n      <th></th>\n      <th>TempBulboSeco</th>\n      <th>TempBulboUmido</th>\n      <th>UmidadeRelativa</th>\n      <th>PressaoAtmEstacao</th>\n      <th>DirecaoVento</th>\n      <th>VelocidadeVento</th>\n      <th>Nebulosidade</th>\n    </tr>\n    <tr>\n      <th>Horario</th>\n      <th></th>\n      <th></th>\n      <th></th>\n      <th></th>\n      <th></th>\n      <th></th>\n      <th></th>\n    </tr>\n  </thead>\n  <tbody>\n    <tr>\n      <th>2008-01-01 00:00:00</th>\n      <td>26.8</td>\n      <td>22.6</td>\n      <td>68.0</td>\n      <td>1012.1</td>\n      <td>Sudeste</td>\n      <td>3.3</td>\n      <td>3.0</td>\n    </tr>\n    <tr>\n      <th>2008-01-01 12:00:00</th>\n      <td>29.4</td>\n      <td>23.3</td>\n      <td>58.0</td>\n      <td>1012.7</td>\n      <td>Sudeste</td>\n      <td>3.5</td>\n      <td>4.0</td>\n    </tr>\n    <tr>\n      <th>2008-01-01 18:00:00</th>\n      <td>29.6</td>\n      <td>23.5</td>\n      <td>59.0</td>\n      <td>1011.2</td>\n      <td>Sudeste</td>\n      <td>3.3</td>\n      <td>3.0</td>\n    </tr>\n    <tr>\n      <th>2008-01-02 00:00:00</th>\n      <td>26.6</td>\n      <td>22.2</td>\n      <td>69.0</td>\n      <td>1012.8</td>\n      <td>Sudeste</td>\n      <td>2.6</td>\n      <td>4.0</td>\n    </tr>\n    <tr>\n      <th>2008-01-02 12:00:00</th>\n      <td>29.8</td>\n      <td>23.9</td>\n      <td>61.0</td>\n      <td>1013.3</td>\n      <td>Sudeste</td>\n      <td>3.3</td>\n      <td>3.0</td>\n    </tr>\n  </tbody>\n</table>\n</div>"
     },
     "metadata": {},
     "execution_count": 30
    }
   ],
   "source": [
    "df_jp['DirecaoVento']=df_jp['DirecaoVento'].map(mapper)\n",
    "df_jp.head()"
   ]
  },
  {
   "cell_type": "markdown",
   "metadata": {},
   "source": [
    "### __Função para carregar arquivos csv__"
   ]
  },
  {
   "cell_type": "markdown",
   "metadata": {},
   "source": [
    "- A função deve receber um arquivo de entrada e retornar um dataframe\n",
    "- As alterações feitas no datafram acima devem ser incluídas na função\n",
    "- O dataframe de retorno deve estar com a estrutura pronta para ser salvo como uma tabela\n",
    "- A função deve poder ler também o arquivo de informações Info.csv \n",
    "- Lembrando, todos os arquivos de medições metereológicas terminam com '_clima.csv'"
   ]
  },
  {
   "cell_type": "code",
   "execution_count": 34,
   "metadata": {},
   "outputs": [],
   "source": [
    "def carrega_csv(arquivo):\n",
    "    \n",
    "    #arquivo: Arquivo do tipo csv\n",
    "    #retorno: Dataframe pandas\n",
    "    \n",
    "    if \"_clima\" in arquivo:\n",
    "        df = pd.read_csv(\"../dados/JoaoPessoa_clima.csv\",\n",
    "            delimiter = \";\",\n",
    "            usecols=list(range(1,10)),               #Exclui a primeria(Estacao) e última coluna\n",
    "            dtype={'Hora':'str','DirecaoVento':'str'},\n",
    "            parse_dates=[['Data', 'Hora']],       #Escolhe a combinação das colunas como ti datetime\n",
    "            dayfirst = True,\n",
    "            index_col = 0\n",
    "        )   \n",
    "        vento = pd.read_csv('../dados/DirecaoVento.csv', delimiter=';', dtype={'Codigo':'str' })\n",
    "        mapper = dict(zip(vento['Codigo'], vento['Descricao']))\n",
    "        df['DirecaoVento']=df['DirecaoVento'].map(mapper)\n",
    "\n",
    "    else :\n",
    "        try:\n",
    "            df = pd.read_csv(arquivo,\n",
    "                            sep=\";\" \n",
    "                            )\n",
    "        except:\n",
    "            raise Exception(\"Arquivo não existe\")\n",
    "                \n",
    "    return df"
   ]
  },
  {
   "cell_type": "code",
   "execution_count": 35,
   "metadata": {},
   "outputs": [
    {
     "output_type": "execute_result",
     "data": {
      "text/plain": "           Cidade  Latitude  Longitude  Altitude\n0           Areia     -6.97     -35.68    574.62\n1  Campina-Grande     -7.22     -35.88    547.56\n2     Joao-Pessoa     -7.10     -34.86      7.43\n3        Monteiro     -7.88     -37.06    603.66\n4           Patos     -7.01     -37.26    249.09\n5     Sao-Goncalo     -6.75     -38.21    233.06",
      "text/html": "<div>\n<style scoped>\n    .dataframe tbody tr th:only-of-type {\n        vertical-align: middle;\n    }\n\n    .dataframe tbody tr th {\n        vertical-align: top;\n    }\n\n    .dataframe thead th {\n        text-align: right;\n    }\n</style>\n<table border=\"1\" class=\"dataframe\">\n  <thead>\n    <tr style=\"text-align: right;\">\n      <th></th>\n      <th>Cidade</th>\n      <th>Latitude</th>\n      <th>Longitude</th>\n      <th>Altitude</th>\n    </tr>\n  </thead>\n  <tbody>\n    <tr>\n      <th>0</th>\n      <td>Areia</td>\n      <td>-6.97</td>\n      <td>-35.68</td>\n      <td>574.62</td>\n    </tr>\n    <tr>\n      <th>1</th>\n      <td>Campina-Grande</td>\n      <td>-7.22</td>\n      <td>-35.88</td>\n      <td>547.56</td>\n    </tr>\n    <tr>\n      <th>2</th>\n      <td>Joao-Pessoa</td>\n      <td>-7.10</td>\n      <td>-34.86</td>\n      <td>7.43</td>\n    </tr>\n    <tr>\n      <th>3</th>\n      <td>Monteiro</td>\n      <td>-7.88</td>\n      <td>-37.06</td>\n      <td>603.66</td>\n    </tr>\n    <tr>\n      <th>4</th>\n      <td>Patos</td>\n      <td>-7.01</td>\n      <td>-37.26</td>\n      <td>249.09</td>\n    </tr>\n    <tr>\n      <th>5</th>\n      <td>Sao-Goncalo</td>\n      <td>-6.75</td>\n      <td>-38.21</td>\n      <td>233.06</td>\n    </tr>\n  </tbody>\n</table>\n</div>"
     },
     "metadata": {},
     "execution_count": 35
    }
   ],
   "source": [
    "#Testando função com dados info\n",
    "carrega_csv(\"../dados/Info.csv\")"
   ]
  },
  {
   "cell_type": "code",
   "execution_count": 36,
   "metadata": {},
   "outputs": [
    {
     "output_type": "execute_result",
     "data": {
      "text/plain": "                     TempBulboSeco  TempBulboUmido  UmidadeRelativa  \\\nData_Hora                                                             \n2008-01-01 00:00:00           26.8            22.6             68.0   \n2008-01-01 12:00:00           29.4            23.3             58.0   \n2008-01-01 18:00:00           29.6            23.5             59.0   \n2008-01-02 00:00:00           26.6            22.2             69.0   \n2008-01-02 12:00:00           29.8            23.9             61.0   \n...                            ...             ...              ...   \n2018-12-30 12:00:00           30.8             NaN             57.0   \n2018-12-30 18:00:00            NaN             NaN             59.0   \n2018-12-31 00:00:00           27.8             NaN             79.0   \n2018-12-31 12:00:00           30.2             NaN             73.0   \n2018-12-31 18:00:00            NaN             NaN             68.0   \n\n                     PressaoAtmEstacao DirecaoVento  VelocidadeVento  \\\nData_Hora                                                              \n2008-01-01 00:00:00             1012.1      Sudeste          3.30000   \n2008-01-01 12:00:00             1012.7      Sudeste          3.50000   \n2008-01-01 18:00:00             1011.2      Sudeste          3.30000   \n2008-01-02 00:00:00             1012.8      Sudeste          2.60000   \n2008-01-02 12:00:00             1013.3      Sudeste          3.30000   \n...                                ...          ...              ...   \n2018-12-30 12:00:00             1012.7      Sudeste          1.54332   \n2018-12-30 18:00:00             1010.3        Leste          3.08664   \n2018-12-31 00:00:00             1013.4      Sudeste          3.08664   \n2018-12-31 12:00:00             1013.0      Sudeste          2.05776   \n2018-12-31 18:00:00             1011.0      Sudeste          2.05776   \n\n                     Nebulosidade  \nData_Hora                          \n2008-01-01 00:00:00           3.0  \n2008-01-01 12:00:00           4.0  \n2008-01-01 18:00:00           3.0  \n2008-01-02 00:00:00           4.0  \n2008-01-02 12:00:00           3.0  \n...                           ...  \n2018-12-30 12:00:00           5.0  \n2018-12-30 18:00:00           5.0  \n2018-12-31 00:00:00           5.0  \n2018-12-31 12:00:00           7.5  \n2018-12-31 18:00:00           2.5  \n\n[11938 rows x 7 columns]",
      "text/html": "<div>\n<style scoped>\n    .dataframe tbody tr th:only-of-type {\n        vertical-align: middle;\n    }\n\n    .dataframe tbody tr th {\n        vertical-align: top;\n    }\n\n    .dataframe thead th {\n        text-align: right;\n    }\n</style>\n<table border=\"1\" class=\"dataframe\">\n  <thead>\n    <tr style=\"text-align: right;\">\n      <th></th>\n      <th>TempBulboSeco</th>\n      <th>TempBulboUmido</th>\n      <th>UmidadeRelativa</th>\n      <th>PressaoAtmEstacao</th>\n      <th>DirecaoVento</th>\n      <th>VelocidadeVento</th>\n      <th>Nebulosidade</th>\n    </tr>\n    <tr>\n      <th>Data_Hora</th>\n      <th></th>\n      <th></th>\n      <th></th>\n      <th></th>\n      <th></th>\n      <th></th>\n      <th></th>\n    </tr>\n  </thead>\n  <tbody>\n    <tr>\n      <th>2008-01-01 00:00:00</th>\n      <td>26.8</td>\n      <td>22.6</td>\n      <td>68.0</td>\n      <td>1012.1</td>\n      <td>Sudeste</td>\n      <td>3.30000</td>\n      <td>3.0</td>\n    </tr>\n    <tr>\n      <th>2008-01-01 12:00:00</th>\n      <td>29.4</td>\n      <td>23.3</td>\n      <td>58.0</td>\n      <td>1012.7</td>\n      <td>Sudeste</td>\n      <td>3.50000</td>\n      <td>4.0</td>\n    </tr>\n    <tr>\n      <th>2008-01-01 18:00:00</th>\n      <td>29.6</td>\n      <td>23.5</td>\n      <td>59.0</td>\n      <td>1011.2</td>\n      <td>Sudeste</td>\n      <td>3.30000</td>\n      <td>3.0</td>\n    </tr>\n    <tr>\n      <th>2008-01-02 00:00:00</th>\n      <td>26.6</td>\n      <td>22.2</td>\n      <td>69.0</td>\n      <td>1012.8</td>\n      <td>Sudeste</td>\n      <td>2.60000</td>\n      <td>4.0</td>\n    </tr>\n    <tr>\n      <th>2008-01-02 12:00:00</th>\n      <td>29.8</td>\n      <td>23.9</td>\n      <td>61.0</td>\n      <td>1013.3</td>\n      <td>Sudeste</td>\n      <td>3.30000</td>\n      <td>3.0</td>\n    </tr>\n    <tr>\n      <th>...</th>\n      <td>...</td>\n      <td>...</td>\n      <td>...</td>\n      <td>...</td>\n      <td>...</td>\n      <td>...</td>\n      <td>...</td>\n    </tr>\n    <tr>\n      <th>2018-12-30 12:00:00</th>\n      <td>30.8</td>\n      <td>NaN</td>\n      <td>57.0</td>\n      <td>1012.7</td>\n      <td>Sudeste</td>\n      <td>1.54332</td>\n      <td>5.0</td>\n    </tr>\n    <tr>\n      <th>2018-12-30 18:00:00</th>\n      <td>NaN</td>\n      <td>NaN</td>\n      <td>59.0</td>\n      <td>1010.3</td>\n      <td>Leste</td>\n      <td>3.08664</td>\n      <td>5.0</td>\n    </tr>\n    <tr>\n      <th>2018-12-31 00:00:00</th>\n      <td>27.8</td>\n      <td>NaN</td>\n      <td>79.0</td>\n      <td>1013.4</td>\n      <td>Sudeste</td>\n      <td>3.08664</td>\n      <td>5.0</td>\n    </tr>\n    <tr>\n      <th>2018-12-31 12:00:00</th>\n      <td>30.2</td>\n      <td>NaN</td>\n      <td>73.0</td>\n      <td>1013.0</td>\n      <td>Sudeste</td>\n      <td>2.05776</td>\n      <td>7.5</td>\n    </tr>\n    <tr>\n      <th>2018-12-31 18:00:00</th>\n      <td>NaN</td>\n      <td>NaN</td>\n      <td>68.0</td>\n      <td>1011.0</td>\n      <td>Sudeste</td>\n      <td>2.05776</td>\n      <td>2.5</td>\n    </tr>\n  </tbody>\n</table>\n<p>11938 rows × 7 columns</p>\n</div>"
     },
     "metadata": {},
     "execution_count": 36
    }
   ],
   "source": [
    "#Testando função com dados metereológicos\n",
    "carrega_csv(\"../dados/JoaoPessoa_clima.csv\")"
   ]
  },
  {
   "cell_type": "code",
   "execution_count": 37,
   "metadata": {},
   "outputs": [
    {
     "output_type": "execute_result",
     "data": {
      "text/plain": "                     TempBulboSeco  TempBulboUmido  UmidadeRelativa  \\\nData_Hora                                                             \n2008-01-01 00:00:00           26.8            22.6             68.0   \n2008-01-01 12:00:00           29.4            23.3             58.0   \n2008-01-01 18:00:00           29.6            23.5             59.0   \n2008-01-02 00:00:00           26.6            22.2             69.0   \n2008-01-02 12:00:00           29.8            23.9             61.0   \n...                            ...             ...              ...   \n2018-12-30 12:00:00           30.8             NaN             57.0   \n2018-12-30 18:00:00            NaN             NaN             59.0   \n2018-12-31 00:00:00           27.8             NaN             79.0   \n2018-12-31 12:00:00           30.2             NaN             73.0   \n2018-12-31 18:00:00            NaN             NaN             68.0   \n\n                     PressaoAtmEstacao DirecaoVento  VelocidadeVento  \\\nData_Hora                                                              \n2008-01-01 00:00:00             1012.1      Sudeste          3.30000   \n2008-01-01 12:00:00             1012.7      Sudeste          3.50000   \n2008-01-01 18:00:00             1011.2      Sudeste          3.30000   \n2008-01-02 00:00:00             1012.8      Sudeste          2.60000   \n2008-01-02 12:00:00             1013.3      Sudeste          3.30000   \n...                                ...          ...              ...   \n2018-12-30 12:00:00             1012.7      Sudeste          1.54332   \n2018-12-30 18:00:00             1010.3        Leste          3.08664   \n2018-12-31 00:00:00             1013.4      Sudeste          3.08664   \n2018-12-31 12:00:00             1013.0      Sudeste          2.05776   \n2018-12-31 18:00:00             1011.0      Sudeste          2.05776   \n\n                     Nebulosidade  \nData_Hora                          \n2008-01-01 00:00:00           3.0  \n2008-01-01 12:00:00           4.0  \n2008-01-01 18:00:00           3.0  \n2008-01-02 00:00:00           4.0  \n2008-01-02 12:00:00           3.0  \n...                           ...  \n2018-12-30 12:00:00           5.0  \n2018-12-30 18:00:00           5.0  \n2018-12-31 00:00:00           5.0  \n2018-12-31 12:00:00           7.5  \n2018-12-31 18:00:00           2.5  \n\n[11938 rows x 7 columns]",
      "text/html": "<div>\n<style scoped>\n    .dataframe tbody tr th:only-of-type {\n        vertical-align: middle;\n    }\n\n    .dataframe tbody tr th {\n        vertical-align: top;\n    }\n\n    .dataframe thead th {\n        text-align: right;\n    }\n</style>\n<table border=\"1\" class=\"dataframe\">\n  <thead>\n    <tr style=\"text-align: right;\">\n      <th></th>\n      <th>TempBulboSeco</th>\n      <th>TempBulboUmido</th>\n      <th>UmidadeRelativa</th>\n      <th>PressaoAtmEstacao</th>\n      <th>DirecaoVento</th>\n      <th>VelocidadeVento</th>\n      <th>Nebulosidade</th>\n    </tr>\n    <tr>\n      <th>Data_Hora</th>\n      <th></th>\n      <th></th>\n      <th></th>\n      <th></th>\n      <th></th>\n      <th></th>\n      <th></th>\n    </tr>\n  </thead>\n  <tbody>\n    <tr>\n      <th>2008-01-01 00:00:00</th>\n      <td>26.8</td>\n      <td>22.6</td>\n      <td>68.0</td>\n      <td>1012.1</td>\n      <td>Sudeste</td>\n      <td>3.30000</td>\n      <td>3.0</td>\n    </tr>\n    <tr>\n      <th>2008-01-01 12:00:00</th>\n      <td>29.4</td>\n      <td>23.3</td>\n      <td>58.0</td>\n      <td>1012.7</td>\n      <td>Sudeste</td>\n      <td>3.50000</td>\n      <td>4.0</td>\n    </tr>\n    <tr>\n      <th>2008-01-01 18:00:00</th>\n      <td>29.6</td>\n      <td>23.5</td>\n      <td>59.0</td>\n      <td>1011.2</td>\n      <td>Sudeste</td>\n      <td>3.30000</td>\n      <td>3.0</td>\n    </tr>\n    <tr>\n      <th>2008-01-02 00:00:00</th>\n      <td>26.6</td>\n      <td>22.2</td>\n      <td>69.0</td>\n      <td>1012.8</td>\n      <td>Sudeste</td>\n      <td>2.60000</td>\n      <td>4.0</td>\n    </tr>\n    <tr>\n      <th>2008-01-02 12:00:00</th>\n      <td>29.8</td>\n      <td>23.9</td>\n      <td>61.0</td>\n      <td>1013.3</td>\n      <td>Sudeste</td>\n      <td>3.30000</td>\n      <td>3.0</td>\n    </tr>\n    <tr>\n      <th>...</th>\n      <td>...</td>\n      <td>...</td>\n      <td>...</td>\n      <td>...</td>\n      <td>...</td>\n      <td>...</td>\n      <td>...</td>\n    </tr>\n    <tr>\n      <th>2018-12-30 12:00:00</th>\n      <td>30.8</td>\n      <td>NaN</td>\n      <td>57.0</td>\n      <td>1012.7</td>\n      <td>Sudeste</td>\n      <td>1.54332</td>\n      <td>5.0</td>\n    </tr>\n    <tr>\n      <th>2018-12-30 18:00:00</th>\n      <td>NaN</td>\n      <td>NaN</td>\n      <td>59.0</td>\n      <td>1010.3</td>\n      <td>Leste</td>\n      <td>3.08664</td>\n      <td>5.0</td>\n    </tr>\n    <tr>\n      <th>2018-12-31 00:00:00</th>\n      <td>27.8</td>\n      <td>NaN</td>\n      <td>79.0</td>\n      <td>1013.4</td>\n      <td>Sudeste</td>\n      <td>3.08664</td>\n      <td>5.0</td>\n    </tr>\n    <tr>\n      <th>2018-12-31 12:00:00</th>\n      <td>30.2</td>\n      <td>NaN</td>\n      <td>73.0</td>\n      <td>1013.0</td>\n      <td>Sudeste</td>\n      <td>2.05776</td>\n      <td>7.5</td>\n    </tr>\n    <tr>\n      <th>2018-12-31 18:00:00</th>\n      <td>NaN</td>\n      <td>NaN</td>\n      <td>68.0</td>\n      <td>1011.0</td>\n      <td>Sudeste</td>\n      <td>2.05776</td>\n      <td>2.5</td>\n    </tr>\n  </tbody>\n</table>\n<p>11938 rows × 7 columns</p>\n</div>"
     },
     "metadata": {},
     "execution_count": 37
    }
   ],
   "source": [
    "carrega_csv(\"../dados/Areia_clima.csv\")"
   ]
  },
  {
   "cell_type": "markdown",
   "metadata": {},
   "source": [
    "A função carrega_csv pode ser encontrada no módulo de apoio __bdconfig.py__ "
   ]
  },
  {
   "cell_type": "code",
   "execution_count": null,
   "metadata": {},
   "outputs": [],
   "source": []
  }
 ],
 "metadata": {
  "kernelspec": {
   "display_name": "Python 3",
   "language": "python",
   "name": "python3"
  },
  "language_info": {
   "codemirror_mode": {
    "name": "ipython",
    "version": 3
   },
   "file_extension": ".py",
   "mimetype": "text/x-python",
   "name": "python",
   "nbconvert_exporter": "python",
   "pygments_lexer": "ipython3",
   "version": "3.7.6-final"
  }
 },
 "nbformat": 4,
 "nbformat_minor": 4
}